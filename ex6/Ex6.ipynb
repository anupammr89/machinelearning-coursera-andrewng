{
 "cells": [
  {
   "cell_type": "markdown",
   "metadata": {},
   "source": [
    "# <center>Support Vector Machines and Spam Classification</center>"
   ]
  },
  {
   "cell_type": "markdown",
   "metadata": {},
   "source": [
    "In the first half of this exercise, you will be using support vector machines (SVMs) with various example 2D datasets. Experimenting with these datasets will help you gain an intuition of how SVMs work and how to use a Gaussian kernel with SVMs. In the next half of the exercise, you will be using support vector machines to build a spam classier."
   ]
  },
  {
   "cell_type": "code",
   "execution_count": 1,
   "metadata": {},
   "outputs": [],
   "source": [
    "%matplotlib widget\n",
    "import numpy as np\n",
    "import pandas as pd\n",
    "import matplotlib.pyplot as plt\n",
    "import seaborn as sns\n",
    "import scipy.io\n",
    "from sklearn import svm\n",
    "from sklearn.metrics.pairwise import euclidean_distances"
   ]
  },
  {
   "cell_type": "markdown",
   "metadata": {},
   "source": [
    "## Support Vector Machines"
   ]
  },
  {
   "cell_type": "markdown",
   "metadata": {},
   "source": [
    "### Example Dataset 1"
   ]
  },
  {
   "cell_type": "markdown",
   "metadata": {},
   "source": [
    "2D Example Dataset which can be separated by a linear boundary. Try using different values of the C parameter (1 and 100) with SVMs and see the effect on decision boundary with respect to outlier"
   ]
  },
  {
   "cell_type": "code",
   "execution_count": 2,
   "metadata": {},
   "outputs": [
    {
     "name": "stdout",
     "output_type": "stream",
     "text": [
      "dict_keys(['__header__', '__version__', '__globals__', 'X', 'y'])\n",
      "(51, 2) (51, 1)\n"
     ]
    },
    {
     "data": {
      "application/vnd.jupyter.widget-view+json": {
       "model_id": "1331be3dd5bd4795a1f0065ae7983f7f",
       "version_major": 2,
       "version_minor": 0
      },
      "text/plain": [
       "Canvas(toolbar=Toolbar(toolitems=[('Home', 'Reset original view', 'home', 'home'), ('Back', 'Back to previous …"
      ]
     },
     "metadata": {},
     "output_type": "display_data"
    },
    {
     "data": {
      "text/plain": [
       "[Text(0.5, 0, 'Example data 1')]"
      ]
     },
     "execution_count": 2,
     "metadata": {},
     "output_type": "execute_result"
    }
   ],
   "source": [
    "data = scipy.io.loadmat('ex6data1.mat')\n",
    "print(data.keys())\n",
    "X1 = data['X']\n",
    "y1 = data['y']\n",
    "print(X1.shape, y1.shape)\n",
    "fig_data1 = plt.figure()\n",
    "ax_data1 = fig_data1.add_subplot(111) \n",
    "ax_data1 = sns.scatterplot(x=X1.T[0], y=X1.T[1], hue=y1.ravel())\n",
    "ax_data1.set(xlabel='Example data 1')"
   ]
  },
  {
   "cell_type": "code",
   "execution_count": 3,
   "metadata": {},
   "outputs": [],
   "source": [
    "# Function to plot Training data with linear decision boundary.\n",
    "def svmlplot(clf, X, y, c):\n",
    "    \n",
    "    title = \"SVM Linear Classification C = {}\".format(c)\n",
    "    fig_svmex1 = plt.figure()\n",
    "    ax_svmex1 = fig_svmex1.add_subplot(111) \n",
    "    sns.scatterplot(x=X.T[0], y=X.T[1], hue=y.ravel(),ax=ax_svmex1)\n",
    "    \n",
    "    # One way to plot decision boundary: x2 = -(Theta1.x1 + Theta0)/Theta2\n",
    "    #xp = np.linspace(np.min(X[:,:1]),np.max(X[:,:1]), num=100)\n",
    "    #yp = - (clf.coef_[0][0]*xp + clf.intercept_)/clf.coef_[0][1]\n",
    "    #sns.lineplot(x=xp, y=yp, ax=ax_svmex1)\n",
    "    \n",
    "    # Another way is using meshgrid and decision function\n",
    "    xlim = ax_svmex1.get_xlim()\n",
    "    ylim = ax_svmex1.get_ylim()\n",
    "    xx = np.linspace(xlim[0], xlim[1], 30)\n",
    "    yy = np.linspace(ylim[0], ylim[1], 30)\n",
    "    XX, YY = np.meshgrid(xx, yy)\n",
    "    xy = np.vstack([XX.ravel(), YY.ravel()]).T\n",
    "    Z = clf.decision_function(xy)\n",
    "    # we can also calculate the decision function manually\n",
    "    #Z = xy.dot(clf.coef_.T) + clf.intercept_\n",
    "    #Z = Z.ravel()\n",
    "    Z = Z.reshape(XX.shape)\n",
    "    \n",
    "    # plot decision boundary and margins\n",
    "    CL = ax_svmex1.contour(XX, YY, Z, levels=[-1, 0, 1], colors='k', alpha=0.5,\n",
    "                           linestyles=['--', '-', '--'])\n",
    "    ax_svmex1.scatter(clf.support_vectors_[:, 0], clf.support_vectors_[:, 1], s=100,\n",
    "                        linewidth=1, facecolors='none', edgecolors='k')\n",
    "    ax_svmex1.clabel(CL, inline=1, fontsize=10)\n",
    "\n",
    "    ax_svmex1.set(xlabel=\"Example data 1\")\n",
    "    fig_svmex1.suptitle(title, fontsize=16)"
   ]
  },
  {
   "cell_type": "code",
   "execution_count": 4,
   "metadata": {},
   "outputs": [],
   "source": [
    "# Function which returns classifier fitted for given data using Linear Kernel\n",
    "def svmex1(X, y, c):\n",
    "    clf = svm.SVC(C=c, kernel='linear')\n",
    "    clf.fit(X, y.ravel())\n",
    "    #print(\"Support Vectors\", clf.support_vectors_)\n",
    "    #print(\"Indices of Support Vectors\", clf.support_)\n",
    "    #print(\"Number of Support Vectors\", clf.n_support_)\n",
    "    return clf"
   ]
  },
  {
   "cell_type": "code",
   "execution_count": 5,
   "metadata": {},
   "outputs": [
    {
     "data": {
      "application/vnd.jupyter.widget-view+json": {
       "model_id": "2914ca937a9f4ba29d3ec0486a7fea93",
       "version_major": 2,
       "version_minor": 0
      },
      "text/plain": [
       "Canvas(toolbar=Toolbar(toolitems=[('Home', 'Reset original view', 'home', 'home'), ('Back', 'Back to previous …"
      ]
     },
     "metadata": {},
     "output_type": "display_data"
    }
   ],
   "source": [
    "c = 1\n",
    "clf = svmex1(X1, y1, c)\n",
    "svmlplot(clf, X1, y1, c)"
   ]
  },
  {
   "cell_type": "code",
   "execution_count": 6,
   "metadata": {},
   "outputs": [
    {
     "data": {
      "application/vnd.jupyter.widget-view+json": {
       "model_id": "82ce0fa470be4125bf6583474adf5b67",
       "version_major": 2,
       "version_minor": 0
      },
      "text/plain": [
       "Canvas(toolbar=Toolbar(toolitems=[('Home', 'Reset original view', 'home', 'home'), ('Back', 'Back to previous …"
      ]
     },
     "metadata": {},
     "output_type": "display_data"
    }
   ],
   "source": [
    "c = 100\n",
    "clf = svmex1(X1, y1, c)\n",
    "svmlplot(clf, X1, y1, c)"
   ]
  },
  {
   "cell_type": "markdown",
   "metadata": {},
   "source": [
    "### SVM with Gaussian Kernels"
   ]
  },
  {
   "cell_type": "markdown",
   "metadata": {},
   "source": [
    "Use SVMs to do non-linear classification using Gaussian kernels."
   ]
  },
  {
   "cell_type": "markdown",
   "metadata": {},
   "source": [
    "#### Gaussian Kernel"
   ]
  },
  {
   "cell_type": "markdown",
   "metadata": {},
   "source": [
    "Gaussian kernel as a similarity function that measures the \"distance\" between a pair of examples, $(x^{(i)}, x^{(j)})$. The Gaussian kernel is also parameterized by a bandwidth parameter, $\\sigma$, which determines how fast the similarity metric decreases (to 0) as the examples are further apart.\n",
    "<br>\n",
    "$$ K_{gaussian}(x^{(i)}, x^{(j)}) = exp(-\\frac{||x^{(i)} - x^{(j)}||^2}{2 \\sigma^2}) = exp(-\\frac{\\sum_{k=1}^n(x^{(i)} - x^{(j)})^2}{2 \\sigma^2}) $$"
   ]
  },
  {
   "cell_type": "code",
   "execution_count": 7,
   "metadata": {},
   "outputs": [],
   "source": [
    "# Closure is used since SVM with custom kernel does not allow additional parameters to be passed except X and Y\n",
    "def gaussianKernel(sigma):\n",
    "    def gaussianKernel_(X, Y):\n",
    "        kernel = euclidean_distances(X, Y) ** 2\n",
    "        kernel = kernel*(-1/(2 * sigma**2))\n",
    "        kernel = np.exp(kernel)\n",
    "        return kernel\n",
    "    return gaussianKernel_"
   ]
  },
  {
   "cell_type": "markdown",
   "metadata": {},
   "source": [
    "#### Example Dataset 2"
   ]
  },
  {
   "cell_type": "code",
   "execution_count": 8,
   "metadata": {},
   "outputs": [
    {
     "name": "stdout",
     "output_type": "stream",
     "text": [
      "dict_keys(['__header__', '__version__', '__globals__', 'X', 'y'])\n",
      "(863, 2) (863, 1)\n"
     ]
    },
    {
     "data": {
      "application/vnd.jupyter.widget-view+json": {
       "model_id": "1f7691494d8f49d7a928ea196a4071ad",
       "version_major": 2,
       "version_minor": 0
      },
      "text/plain": [
       "Canvas(toolbar=Toolbar(toolitems=[('Home', 'Reset original view', 'home', 'home'), ('Back', 'Back to previous …"
      ]
     },
     "metadata": {},
     "output_type": "display_data"
    },
    {
     "data": {
      "text/plain": [
       "[Text(0.5, 0, 'Example data 2')]"
      ]
     },
     "execution_count": 8,
     "metadata": {},
     "output_type": "execute_result"
    }
   ],
   "source": [
    "data = scipy.io.loadmat('ex6data2.mat')\n",
    "print(data.keys())\n",
    "X2 = data['X']\n",
    "y2 = data['y']\n",
    "print(X2.shape, y2.shape)\n",
    "fig_svmex2 = plt.figure()\n",
    "ax_svmex2 = fig_svmex2.add_subplot(111)\n",
    "ax_svmex2 = sns.scatterplot(x=X2.T[0], y=X2.T[1], hue=y2.ravel(),ax=ax_svmex2)\n",
    "ax_svmex2.set(xlabel='Example data 2')"
   ]
  },
  {
   "cell_type": "code",
   "execution_count": 9,
   "metadata": {},
   "outputs": [],
   "source": [
    "# Function to plot Training data with non-linear decision boundary.\n",
    "#  If plotval is set to 1, the will plot the same for Validation data also.\n",
    "def svmnlplot(clf, X, y, Xval, yval, c, sigma, plotval):\n",
    "    # Predict class for training data\n",
    "    y_p = clf.predict(X)\n",
    "\n",
    "    # Generate grid of data using training data range and predict its output.\n",
    "    h = 0.02\n",
    "    x_min, x_max = X[:, 0].min(), X[:, 0].max()\n",
    "    y_min, y_max = X[:, 1].min(), X[:, 1].max()\n",
    "    xx, yy = np.meshgrid(np.arange(x_min, x_max, h), np.arange(y_min, y_max, h))\n",
    "    Z = clf.predict(np.c_[xx.ravel(), yy.ravel()])\n",
    "    Z = Z.reshape(xx.shape)\n",
    "    \n",
    "    if(plotval == 1):\n",
    "        # Generate grid of data using validation data range and predict its output.\n",
    "        x_minv, x_maxv = Xval[:, 0].min(), Xval[:, 0].max()\n",
    "        y_minv, y_maxv = Xval[:, 1].min(), Xval[:, 1].max()\n",
    "        xxv, yyv = np.meshgrid(np.arange(x_minv, x_maxv, h), np.arange(y_minv, y_maxv, h))\n",
    "        Zv = clf.predict(np.c_[xxv.ravel(), yyv.ravel()])\n",
    "        Zv = Zv.reshape(xxv.shape)\n",
    "    \n",
    "    if(plotval == 1):\n",
    "        # Use 2x1 plot if plotting both training and validation data\n",
    "        fig_svm = plt.figure(figsize=(10,4))\n",
    "        ax_svmt = fig_svm.add_subplot(121)\n",
    "    else:\n",
    "        # Use 1x1 plot if plotting only training data\n",
    "        fig_svm = plt.figure()\n",
    "        ax_svmt = fig_svm.add_subplot(111)    \n",
    "    \n",
    "    # Plot training data and its decision boundary\n",
    "    sns.scatterplot(x=X.T[0], y=X.T[1], hue=y.ravel(), ax=ax_svmt)\n",
    "    CS = ax_svmt.contour(xx, yy, Z, [0.5, 0.6])\n",
    "    ax_svmt.clabel(CS, inline=1, fontsize=10)\n",
    "    ax_svmt.set(xlabel='Example data 3 -Training')\n",
    "    \n",
    "    if(plotval == 1):\n",
    "        # Plot validation data and its decision boundary\n",
    "        ax_svmv = fig_svm.add_subplot(122)\n",
    "        sns.scatterplot(x=Xval.T[0], y=Xval.T[1], hue=yval.ravel(), ax=ax_svmv)\n",
    "        CSv = ax_svmv.contour(xxv, yyv, Zv, [0.5, 0.6])\n",
    "        ax_svmv.set(xlabel='Example data 3 - Validation')\n",
    "\n",
    "    title = \"SVM Non-Linear Classification C = {}, Sigma = {}\".format(c, sigma)\n",
    "    fig_svm.suptitle(title, fontsize=16)"
   ]
  },
  {
   "cell_type": "code",
   "execution_count": 10,
   "metadata": {},
   "outputs": [],
   "source": [
    "# Function which returns classifier fitted for given data using Gaussian Kernel\n",
    "def svmnl(X, y, c, sigma):\n",
    "    clf = svm.SVC(C=c, kernel=gaussianKernel(sigma))\n",
    "    clf.fit(X, y.ravel())\n",
    "    #print(\"Support Vectors\", clf.support_vectors_)\n",
    "    #print(\"Indices of Support Vectors\", clf.support_)\n",
    "    #print(\"Number of Support Vectors\", clf.n_support_)\n",
    "    return clf"
   ]
  },
  {
   "cell_type": "code",
   "execution_count": 11,
   "metadata": {},
   "outputs": [
    {
     "data": {
      "application/vnd.jupyter.widget-view+json": {
       "model_id": "acc25292355b48408fc47bb709eb909c",
       "version_major": 2,
       "version_minor": 0
      },
      "text/plain": [
       "Canvas(toolbar=Toolbar(toolitems=[('Home', 'Reset original view', 'home', 'home'), ('Back', 'Back to previous …"
      ]
     },
     "metadata": {},
     "output_type": "display_data"
    }
   ],
   "source": [
    "c, sigma = 1, 0.1\n",
    "clf = svmnl(X2, y2, c, sigma)\n",
    "svmnlplot(clf, X2, y2, 0, 0, c, sigma, 0)"
   ]
  },
  {
   "cell_type": "markdown",
   "metadata": {},
   "source": [
    "#### Example Dataset 3"
   ]
  },
  {
   "cell_type": "code",
   "execution_count": 12,
   "metadata": {},
   "outputs": [
    {
     "name": "stdout",
     "output_type": "stream",
     "text": [
      "dict_keys(['__header__', '__version__', '__globals__', 'X', 'y', 'yval', 'Xval'])\n",
      "(211, 2) (211, 1) (200, 2) (200, 1)\n"
     ]
    },
    {
     "data": {
      "application/vnd.jupyter.widget-view+json": {
       "model_id": "1525064870124a699e0f7e6a276fc8d4",
       "version_major": 2,
       "version_minor": 0
      },
      "text/plain": [
       "Canvas(toolbar=Toolbar(toolitems=[('Home', 'Reset original view', 'home', 'home'), ('Back', 'Back to previous …"
      ]
     },
     "metadata": {},
     "output_type": "display_data"
    },
    {
     "data": {
      "text/plain": [
       "[Text(0.5, 0, 'Example data 3 - Validation')]"
      ]
     },
     "execution_count": 12,
     "metadata": {},
     "output_type": "execute_result"
    }
   ],
   "source": [
    "data = scipy.io.loadmat('ex6data3.mat')\n",
    "print(data.keys())\n",
    "X3 = data['X']\n",
    "y3 = data['y']\n",
    "X3val = data['Xval']\n",
    "y3val = data['yval']\n",
    "print(X3.shape, y3.shape, X3val.shape, y3val.shape)\n",
    "\n",
    "fig_data3 = plt.figure(figsize=(10,4))\n",
    "ax_data3 = fig_data3.add_subplot(121)\n",
    "ax_data3 = sns.scatterplot(x=X3.T[0], y=X3.T[1], hue=y3.ravel())\n",
    "ax_data3.set(xlabel='Example data 3 -Training')\n",
    "ax_data4 = fig_data3.add_subplot(122)\n",
    "ax_data4 = sns.scatterplot(x=X3val.T[0], y=X3val.T[1], hue=y3val.ravel())\n",
    "ax_data4.set(xlabel='Example data 3 - Validation')"
   ]
  },
  {
   "cell_type": "code",
   "execution_count": 13,
   "metadata": {},
   "outputs": [
    {
     "name": "stdout",
     "output_type": "stream",
     "text": [
      "C = 1.0, Sigma = 0.1, Min Error = 0.035\n"
     ]
    },
    {
     "data": {
      "application/vnd.jupyter.widget-view+json": {
       "model_id": "d9ab39d75b1243e4b6cef1b0c4b8bba2",
       "version_major": 2,
       "version_minor": 0
      },
      "text/plain": [
       "Canvas(toolbar=Toolbar(toolitems=[('Home', 'Reset original view', 'home', 'home'), ('Back', 'Back to previous …"
      ]
     },
     "metadata": {},
     "output_type": "display_data"
    }
   ],
   "source": [
    "param = np.array([0.01, 0.03, 0.1, 0.3, 1, 3, 10, 30])\n",
    "minError, minC, minS = 5, 0, 0\n",
    "for c in param:\n",
    "    for s in param:\n",
    "        clf = svmnl(X3, y3, c, s)\n",
    "        y3_p = clf.predict(X3val)\n",
    "        err = np.mean(y3_p != y3val.ravel())\n",
    "        if(err < minError):\n",
    "            minError = err\n",
    "            minC = c\n",
    "            minS = s\n",
    "print(\"C = {}, Sigma = {}, Min Error = {}\".format(minC, minS, minError))\n",
    "clf = svmnl(X3, y3, minC, minS)\n",
    "svmnlplot(clf, X3, y3, X3val, y3val, minC, minS, 1)"
   ]
  },
  {
   "cell_type": "markdown",
   "metadata": {},
   "source": [
    "## Spam Classification"
   ]
  },
  {
   "cell_type": "markdown",
   "metadata": {},
   "source": [
    "The purpose of this exercise is to build a Spam filter. This involves converting each email into a feature vector $x \\in R^n$. We will use only the body of the email (excluding the email headers)\n",
    "<br>The dataset included for this exercise is based on a a subset of the SpamAssassin Public Corpus - http://spamassassin.apache.org/old/publiccorpus/"
   ]
  },
  {
   "cell_type": "markdown",
   "metadata": {},
   "source": [
    "### Preprocessing Emails"
   ]
  },
  {
   "cell_type": "markdown",
   "metadata": {},
   "source": [
    "#### Vocabulary List"
   ]
  },
  {
   "cell_type": "code",
   "execution_count": 14,
   "metadata": {},
   "outputs": [
    {
     "data": {
      "text/html": [
       "<div>\n",
       "<style scoped>\n",
       "    .dataframe tbody tr th:only-of-type {\n",
       "        vertical-align: middle;\n",
       "    }\n",
       "\n",
       "    .dataframe tbody tr th {\n",
       "        vertical-align: top;\n",
       "    }\n",
       "\n",
       "    .dataframe thead th {\n",
       "        text-align: right;\n",
       "    }\n",
       "</style>\n",
       "<table border=\"1\" class=\"dataframe\">\n",
       "  <thead>\n",
       "    <tr style=\"text-align: right;\">\n",
       "      <th></th>\n",
       "      <th>Index</th>\n",
       "      <th>Word</th>\n",
       "    </tr>\n",
       "  </thead>\n",
       "  <tbody>\n",
       "    <tr>\n",
       "      <th>0</th>\n",
       "      <td>1</td>\n",
       "      <td>aa</td>\n",
       "    </tr>\n",
       "    <tr>\n",
       "      <th>1</th>\n",
       "      <td>2</td>\n",
       "      <td>ab</td>\n",
       "    </tr>\n",
       "    <tr>\n",
       "      <th>2</th>\n",
       "      <td>3</td>\n",
       "      <td>abil</td>\n",
       "    </tr>\n",
       "    <tr>\n",
       "      <th>3</th>\n",
       "      <td>4</td>\n",
       "      <td>abl</td>\n",
       "    </tr>\n",
       "    <tr>\n",
       "      <th>4</th>\n",
       "      <td>5</td>\n",
       "      <td>about</td>\n",
       "    </tr>\n",
       "  </tbody>\n",
       "</table>\n",
       "</div>"
      ],
      "text/plain": [
       "   Index   Word\n",
       "0      1     aa\n",
       "1      2     ab\n",
       "2      3   abil\n",
       "3      4    abl\n",
       "4      5  about"
      ]
     },
     "execution_count": 14,
     "metadata": {},
     "output_type": "execute_result"
    }
   ],
   "source": [
    "vocab = pd.read_csv('vocab.txt', sep=\"\\t\", header=None)\n",
    "vocab.columns = [\"Index\", \"Word\"]\n",
    "vocab.head()"
   ]
  },
  {
   "cell_type": "markdown",
   "metadata": {},
   "source": [
    "### Extracting features from Emails"
   ]
  },
  {
   "cell_type": "markdown",
   "metadata": {},
   "source": [
    "### Training SVM for Spam Classification"
   ]
  },
  {
   "cell_type": "code",
   "execution_count": 15,
   "metadata": {},
   "outputs": [
    {
     "name": "stdout",
     "output_type": "stream",
     "text": [
      "dict_keys(['__header__', '__version__', '__globals__', 'X', 'y'])\n",
      "dict_keys(['__header__', '__version__', '__globals__', 'Xtest', 'ytest'])\n",
      "(4000, 1899) (4000, 1) (1000, 1899) (1000, 1)\n"
     ]
    }
   ],
   "source": [
    "data = scipy.io.loadmat('spamTrain.mat')\n",
    "print(data.keys())\n",
    "SXt = data['X']\n",
    "Syt = data['y']\n",
    "data = scipy.io.loadmat('spamTest.mat')\n",
    "print(data.keys())\n",
    "SXval = data['Xtest']\n",
    "Syval = data['ytest']\n",
    "print(SXt.shape, Syt.shape, SXval.shape, Syval.shape)"
   ]
  },
  {
   "cell_type": "code",
   "execution_count": 16,
   "metadata": {},
   "outputs": [
    {
     "name": "stdout",
     "output_type": "stream",
     "text": [
      "Training set accuracy 0.99825\n"
     ]
    }
   ],
   "source": [
    "c = 0.1\n",
    "Spamclf = svm.SVC(C=c, kernel='linear')\n",
    "Spamclf.fit(SXt, Syt.ravel())\n",
    "Syt_p = Spamclf.predict(SXt)\n",
    "print(\"Training set accuracy {}\".format(np.mean(Syt_p == Syt.ravel())))"
   ]
  },
  {
   "cell_type": "code",
   "execution_count": 17,
   "metadata": {},
   "outputs": [
    {
     "name": "stdout",
     "output_type": "stream",
     "text": [
      "Test set accuracy 0.989\n"
     ]
    }
   ],
   "source": [
    "Syval_p = Spamclf.predict(SXval)\n",
    "print(\"Test set accuracy {}\".format(np.mean(Syval_p == Syval.ravel())))"
   ]
  },
  {
   "cell_type": "markdown",
   "metadata": {},
   "source": [
    "### Top Predictors for Spam"
   ]
  },
  {
   "cell_type": "code",
   "execution_count": 18,
   "metadata": {},
   "outputs": [
    {
     "name": "stdout",
     "output_type": "stream",
     "text": [
      "Top predictors of spam:\n",
      "Word       Weight \n",
      "our        0.5006137361746404 \n",
      "click      0.4659163906888878 \n",
      "remov      0.4228691170610413 \n",
      "guarante   0.3836216017940651 \n",
      "visit      0.36771039824553503 \n",
      "basenumb   0.34506409794617054 \n",
      "dollar     0.3236320357963838 \n",
      "will       0.26972410603740016 \n",
      "price      0.267297714617707 \n",
      "pleas      0.2611688867001497 \n",
      "most       0.2572981979518163 \n",
      "nbsp       0.2539414551595327 \n",
      "lo         0.2534665243141993 \n",
      "ga         0.2482969904556866 \n",
      "hour       0.24640435783158998 \n"
     ]
    }
   ],
   "source": [
    "# Get the indices of weights sorted weights\n",
    "weightindex1 = np.argsort(Spamclf.coef_.ravel())\n",
    "# Get descended sorted copy\n",
    "weightindex2 = weightindex1[::-1]\n",
    "print(\"Top predictors of spam:\")\n",
    "print(\"{:10} {} \".format(\"Word\", \"Weight\"))\n",
    "for i in range(15):\n",
    "    ind = weightindex2[i]\n",
    "    print(\"{:10} {} \".format(vocab[\"Word\"][ind], Spamclf.coef_[0][ind]))"
   ]
  },
  {
   "cell_type": "markdown",
   "metadata": {},
   "source": [
    "### Try own Emails"
   ]
  },
  {
   "cell_type": "markdown",
   "metadata": {},
   "source": [
    "### Build own dataset"
   ]
  },
  {
   "cell_type": "code",
   "execution_count": null,
   "metadata": {},
   "outputs": [],
   "source": []
  }
 ],
 "metadata": {
  "kernelspec": {
   "display_name": "Python 3",
   "language": "python",
   "name": "python3"
  },
  "language_info": {
   "codemirror_mode": {
    "name": "ipython",
    "version": 3
   },
   "file_extension": ".py",
   "mimetype": "text/x-python",
   "name": "python",
   "nbconvert_exporter": "python",
   "pygments_lexer": "ipython3",
   "version": "3.8.2"
  }
 },
 "nbformat": 4,
 "nbformat_minor": 4
}

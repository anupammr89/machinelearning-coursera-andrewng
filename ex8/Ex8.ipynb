{
 "cells": [
  {
   "cell_type": "markdown",
   "metadata": {},
   "source": [
    "# <center>Anomaly Detection and Recommender Systems</center>"
   ]
  },
  {
   "cell_type": "markdown",
   "metadata": {},
   "source": [
    "In the first half of this exercise, implement the anomaly detection algorithm and apply it to detect failing servers on a network. In the second part, you will use collaborative filtering to build a recommender system for movies."
   ]
  },
  {
   "cell_type": "code",
   "execution_count": 1,
   "metadata": {},
   "outputs": [],
   "source": [
    "import numpy as np\n",
    "import pandas as pd\n",
    "import matplotlib.pyplot as plt\n",
    "import seaborn as sns\n",
    "import scipy.io\n",
    "import scipy.optimize as op\n",
    "from scipy import linalg\n",
    "from scipy.stats import multivariate_normal\n",
    "from sklearn import preprocessing\n",
    "from sklearn.metrics import f1_score\n",
    "import time"
   ]
  },
  {
   "cell_type": "markdown",
   "metadata": {},
   "source": [
    "## Anomaly Detection"
   ]
  },
  {
   "cell_type": "markdown",
   "metadata": {},
   "source": [
    "### Implementing Anomaly Detection on an example 2D Dataset"
   ]
  },
  {
   "cell_type": "markdown",
   "metadata": {},
   "source": [
    "2D Example Dataset which will help gain an intuition of how the Anomaly Detection algorithm works."
   ]
  },
  {
   "cell_type": "code",
   "execution_count": 2,
   "metadata": {},
   "outputs": [
    {
     "name": "stdout",
     "output_type": "stream",
     "text": [
      "dict_keys(['__header__', '__version__', '__globals__', 'X', 'Xval', 'yval'])\n",
      "(307, 2) (307, 2) (307, 1)\n"
     ]
    },
    {
     "data": {
      "text/plain": [
       "Text(0.5, 1.0, 'Example 2D data')"
      ]
     },
     "execution_count": 2,
     "metadata": {},
     "output_type": "execute_result"
    },
    {
     "data": {
      "image/png": "[encoded data removed]",
      "text/plain": [
       "<Figure size 432x288 with 1 Axes>"
      ]
     },
     "metadata": {
      "needs_background": "light"
     },
     "output_type": "display_data"
    }
   ],
   "source": [
    "data2d = scipy.io.loadmat('ex8data1.mat')\n",
    "print(data2d.keys())\n",
    "X2d = data2d['X']\n",
    "Xval2d = data2d['Xval']\n",
    "yval2d = data2d['yval']\n",
    "print(X2d.shape, Xval2d.shape, yval2d.shape)\n",
    "fig_data11 = plt.figure()\n",
    "ax_data11 = fig_data11.add_subplot(111) \n",
    "ax_data11 = sns.scatterplot(x=X2d.T[0], y=X2d.T[1])\n",
    "ax_data11.set(xlabel='Latency (ms)')\n",
    "ax_data11.set(ylabel='Throughput (mbps)')\n",
    "ax_data11.set_title('Example 2D data')"
   ]
  },
  {
   "cell_type": "markdown",
   "metadata": {},
   "source": [
    "### Gaussian Distribution"
   ]
  },
  {
   "cell_type": "markdown",
   "metadata": {},
   "source": [
    "We can fit a model using Gaussian distribution shown below. We need to caculate for each feature $i = 1 ... n,$ parameters $\\mu_i$ and $\\sigma^2_i$\n",
    "$$ p(x; \\mu, \\sigma^2) = \\frac{1}{\\sqrt{2\\pi\\sigma^2}}e^{-\\frac{(x-\\mu)^2}{2\\sigma^2}} $$\n",
    "For multiple variables, we can calculate the probability value for each feature and multiple all of them to get combined probability. Or we can use the Multivariate Gaussian distribution shown below\n",
    "$$ p(x; \\mu, \\sigma^2) = \\frac{1}{(2\\pi)^{n/2}|\\Sigma|^{1/2})}e^{-\\frac{1}{2}(x-\\mu)^T\\Sigma^{-1}(x-\\mu)} $$\n",
    "where\n",
    "$\\Sigma$ is the covariance matrix and $|\\Sigma|$ is its determinant"
   ]
  },
  {
   "cell_type": "code",
   "execution_count": 3,
   "metadata": {},
   "outputs": [],
   "source": [
    "# Function to calculate mean and variance for a dataset\n",
    "def estimateGaussian(X):\n",
    "    return (np.mean(X, axis=0), np.var(X, axis=0, ddof=1))"
   ]
  },
  {
   "cell_type": "code",
   "execution_count": 4,
   "metadata": {},
   "outputs": [],
   "source": [
    "# Function to calculate Multivariate Gaussian distribution\n",
    "def multivarGaussian(X, mu, sigma2):\n",
    "    # Library way to calcultate multivariate probability distribution\n",
    "    #p = multivariate_normal.pdf(X,mu,sigma2)\n",
    "    #return p\n",
    "    k = mu.shape[0]\n",
    "    if(sigma2.ndim == 1 or sigma2.shape[1] == 1):\n",
    "        sigma2 = np.diag(sigma2)\n",
    "    X = X - mu\n",
    "    det = np.linalg.det(sigma2)\n",
    "    si = np.linalg.inv(sigma2)\n",
    "    p = np.power(2*np.pi, (-k/2)) * np.power(det, -0.5) * np.exp(-0.5 * np.sum((X.dot(si))*X, axis=1))\n",
    "    return p"
   ]
  },
  {
   "cell_type": "markdown",
   "metadata": {},
   "source": [
    "### Selecting Anomaly threshold using $F_1$ Score"
   ]
  },
  {
   "cell_type": "markdown",
   "metadata": {},
   "source": [
    "$F_1 Score$ is a good metric to use when the dataset has very small number of positive examples and large number of negative examples. It is calculated as\n",
    "$$ F_1 Score = \\frac{2 * precision * recall}{precision + recall} $$\n",
    "$$ precision = \\frac{True Positive}{True Positive + False Positive} $$\n",
    "$$ recall = \\frac{True Positive}{True Positive + False Negative} $$\n",
    "The threshold value which gives the highest $F_1 Score$ on cross validation data can be selected to detect anomalies"
   ]
  },
  {
   "cell_type": "code",
   "execution_count": 5,
   "metadata": {},
   "outputs": [],
   "source": [
    "def getF1Score(yval, ypred):\n",
    "    # Library way to calcultate F1 score\n",
    "    #f1s = f1_score(yval, ypred)\n",
    "    tp = np.sum(ypred[yval==1])\n",
    "    fp = np.sum(ypred[yval==0])\n",
    "    fn = len(ypred[yval==1]) - tp\n",
    "    if tp+fp == 0:\n",
    "        return 0\n",
    "    prec = tp / (tp + fp)\n",
    "    rec = tp / (tp + fn)\n",
    "    f1s = (2*prec*rec)/(prec+rec)\n",
    "    return f1s"
   ]
  },
  {
   "cell_type": "code",
   "execution_count": 6,
   "metadata": {},
   "outputs": [],
   "source": [
    "# Function to select threshold to determine anomaly\n",
    "def selectThreshold(ypred_prob, yval):\n",
    "    eps = 0\n",
    "    besteps = 0\n",
    "    bestF1 = 0\n",
    "    start, stop = np.min(ypred_prob), np.max(ypred_prob)\n",
    "    stepsize = (stop - start) / 1000;\n",
    "    for eps in np.arange(start, stop, stepsize):\n",
    "        ypred = ypred_prob<eps\n",
    "        f1s = getF1Score(yval, ypred)\n",
    "        if(f1s > bestF1):\n",
    "            bestF1 = f1s\n",
    "            besteps = eps\n",
    "    return besteps"
   ]
  },
  {
   "cell_type": "markdown",
   "metadata": {},
   "source": [
    "### Visualizing the fit and anomalies on 2D dataset"
   ]
  },
  {
   "cell_type": "code",
   "execution_count": 7,
   "metadata": {},
   "outputs": [],
   "source": [
    "# Function to visualize contours and anomalies of the fiited Gaussian distribution\n",
    "def plotGausCont(X, mu, sigma2, outliers):\n",
    "    # Generate meshgrid data to plot contours for different probabilities\n",
    "    xx, yy = np.meshgrid(np.arange(0, 35.5, 0.5), np.arange(0, 35.5, 0.5))\n",
    "    Z = multivarGaussian(np.c_[xx.ravel(), yy.ravel()], mu, sigma2)\n",
    "    Z = Z.reshape(xx.shape)\n",
    "    \n",
    "    fig_data12 = plt.figure()\n",
    "    ax_data12 = fig_data12.add_subplot(111) \n",
    "    # Plot actual data\n",
    "    ax_data12 = sns.scatterplot(x=X.T[0], y=X.T[1], label='Data')\n",
    "    # Plot contours for different probabilities\n",
    "    CP = ax_data12.contour(xx, yy, Z, 10.**np.arange(-20,0,3))\n",
    "    ax_data12.clabel(CP, inline=1, fontsize=10)\n",
    "    print(\"Contour levels (Probability range):\", CP.levels)\n",
    "    # Highlight anomalies\n",
    "    ax_data12.scatter(outliers[:, 0], outliers[:, 1], s=100,\n",
    "                        linewidth=1, facecolors='none', edgecolors='r', label='Anomalies')\n",
    "    ax_data12.legend()\n",
    "    ax_data12.set(xlabel='Latency (ms)')\n",
    "    ax_data12.set(ylabel='Throughput (mbps)')\n",
    "    ax_data12.set_title('Example 2D data')"
   ]
  },
  {
   "cell_type": "code",
   "execution_count": 8,
   "metadata": {},
   "outputs": [],
   "source": [
    "def anomalyDetect(X, Xval, yval, plot):\n",
    "    # Fit model parameters - mean and variance\n",
    "    (mu, sigma2) = estimateGaussian(X)\n",
    "    # Calculate probability for each sample in data\n",
    "    y_pred_prob = multivarGaussian(X, mu, sigma2)\n",
    "    # Calculate probability for each sample in cross validation data\n",
    "    # and use it to select anomaly threshold\n",
    "    yval_pred_prob = multivarGaussian(Xval, mu, sigma2)\n",
    "    eps = selectThreshold(yval_pred_prob, yval.ravel())\n",
    "    print(\"Optimal anomaly threshold is\", eps)\n",
    "    outliers = X[y_pred_prob<eps,:]\n",
    "    print(\"Total anomalies\", outliers.shape[0])\n",
    "    # Visualize\n",
    "    if plot:\n",
    "        plotGausCont(X, mu, sigma2, outliers)"
   ]
  },
  {
   "cell_type": "code",
   "execution_count": 9,
   "metadata": {},
   "outputs": [
    {
     "name": "stdout",
     "output_type": "stream",
     "text": [
      "Optimal anomaly threshold is 8.961567687193518e-05\n",
      "Total anomalies 6\n",
      "Contour levels (Probability range): [1.e-20 1.e-17 1.e-14 1.e-11 1.e-08 1.e-05 1.e-02]\n"
     ]
    },
    {
     "data": {
      "image/png": "[encoded data removed]",
      "text/plain": [
       "<Figure size 432x288 with 1 Axes>"
      ]
     },
     "metadata": {
      "needs_background": "light"
     },
     "output_type": "display_data"
    }
   ],
   "source": [
    "anomalyDetect(X2d, Xval2d, yval2d, 1)"
   ]
  },
  {
   "cell_type": "markdown",
   "metadata": {},
   "source": [
    "### High Dimensional Dataset"
   ]
  },
  {
   "cell_type": "markdown",
   "metadata": {},
   "source": [
    "Run anomaly detection on a more realistic dataset"
   ]
  },
  {
   "cell_type": "code",
   "execution_count": 10,
   "metadata": {},
   "outputs": [
    {
     "name": "stdout",
     "output_type": "stream",
     "text": [
      "dict_keys(['__header__', '__version__', '__globals__', 'X', 'Xval', 'yval'])\n",
      "(1000, 11) (100, 11) (100, 1)\n",
      "Optimal anomaly threshold is 1.3716606750407378e-18\n",
      "Total anomalies 117\n"
     ]
    }
   ],
   "source": [
    "datareal = scipy.io.loadmat('ex8data2.mat')\n",
    "print(datareal.keys())\n",
    "Xreal = datareal['X']\n",
    "Xvalreal = datareal['Xval']\n",
    "yvalreal = datareal['yval']\n",
    "print(Xreal.shape, Xvalreal.shape, yvalreal.shape)\n",
    "anomalyDetect(Xreal, Xvalreal, yvalreal, 0)"
   ]
  },
  {
   "cell_type": "markdown",
   "metadata": {},
   "source": [
    "## Recommender Systems"
   ]
  },
  {
   "cell_type": "markdown",
   "metadata": {},
   "source": [
    "In this part of the exercise, you will implement the collaborative filltering learning algorithm and apply it to a dataset of movie ratings. This dataset consists of ratings on a scale of 1 to 5. The dataset has $n_u$ = 943 users, and $n_m$ = 1682 movies.\n",
    "You will implement the function that computes the collaborative filtlering objective and gradient. After implementing the cost function and gradient, you will use advanced optimization to learn the parameters for collaborative filtering."
   ]
  },
  {
   "cell_type": "markdown",
   "metadata": {},
   "source": [
    "### Movie Ratings Dataset"
   ]
  },
  {
   "cell_type": "markdown",
   "metadata": {},
   "source": [
    "The dataset has two matrices\n",
    "<br>1. Matrix Y (num_movies x num_users) which stores the ratings $y^{(i,j)}$ from 1 to 5\n",
    "<br>2. Matrix R is binary-valued indicator matrix where R(i,j) = 1 if user j has rated a movie i else it is 0\n",
    "<br><br>We will use two more matrices X = $ \\begin{bmatrix} -(x^{(1)})^T- \\\\ -(x^{(2)})^T- \\\\. \\\\ -(x^{(n_m)})^T- \\end{bmatrix} $ and Theta = $ \\begin{bmatrix} -(\\theta^{(1)})^T- \\\\ -(\\theta^{(2)})^T- \\\\. \\\\ -(\\theta^{(n_u)})^T- \\end{bmatrix} $\n",
    "<br>Both $x^{(i)}$ and $\\theta^{(j)}$ are n-dimensional vectors. We will assume each movie has n = 10 features. X is $n_m$ x 10 matrix and Theta is $n_u$ x 10 matrix"
   ]
  },
  {
   "cell_type": "code",
   "execution_count": 11,
   "metadata": {},
   "outputs": [
    {
     "name": "stdout",
     "output_type": "stream",
     "text": [
      "dict_keys(['__header__', '__version__', '__globals__', 'Y', 'R'])\n",
      "(1682, 943) (1682, 943)\n"
     ]
    }
   ],
   "source": [
    "# Reading movie ratings dataset\n",
    "movierdata = scipy.io.loadmat('ex8_movies.mat')\n",
    "print(movierdata.keys())\n",
    "movierY = movierdata['Y']\n",
    "movierR = movierdata['R']\n",
    "print(movierY.shape, movierR.shape)"
   ]
  },
  {
   "cell_type": "code",
   "execution_count": 12,
   "metadata": {},
   "outputs": [
    {
     "data": {
      "text/plain": [
       "<matplotlib.colorbar.Colorbar at 0x126c7d70340>"
      ]
     },
     "execution_count": 12,
     "metadata": {},
     "output_type": "execute_result"
    },
    {
     "data": {
      "image/png": "[encoded data removed]",
      "text/plain": [
       "<Figure size 432x288 with 2 Axes>"
      ]
     },
     "metadata": {
      "needs_background": "light"
     },
     "output_type": "display_data"
    }
   ],
   "source": [
    "# Visualize the movie ratings matrix\n",
    "fig_data21 = plt.figure()\n",
    "ax_data21 = fig_data21.add_subplot(111) \n",
    "imY = ax_data21.imshow(movierY)\n",
    "ax_data21.set(xlabel='Users')\n",
    "ax_data21.set(ylabel='Movies')\n",
    "fig_data21.colorbar(imY, ax=ax_data21)"
   ]
  },
  {
   "cell_type": "code",
   "execution_count": 13,
   "metadata": {},
   "outputs": [
    {
     "name": "stdout",
     "output_type": "stream",
     "text": [
      "dict_keys(['__header__', '__version__', '__globals__', 'X', 'Theta', 'num_users', 'num_movies', 'num_features'])\n",
      "(1682, 10) (943, 10)\n",
      "943 1682 10\n"
     ]
    }
   ],
   "source": [
    "movierparams = scipy.io.loadmat('ex8_movieParams.mat')\n",
    "print(movierparams.keys())\n",
    "movierX = movierparams['X']\n",
    "movierT = movierparams['Theta']\n",
    "movierNumUsers = movierparams['num_users'][0,0]\n",
    "movierNumMovies = movierparams['num_movies'][0,0]\n",
    "movierNumFeatures = movierparams['num_features'][0,0]\n",
    "print(movierX.shape, movierT.shape)\n",
    "print(movierNumUsers, movierNumMovies, movierNumFeatures)\n",
    "tc = 0\n",
    "tg = 0"
   ]
  },
  {
   "cell_type": "markdown",
   "metadata": {},
   "source": [
    "### Collaborative Filtering Algorithm"
   ]
  },
  {
   "cell_type": "markdown",
   "metadata": {},
   "source": [
    "We need to implement the cost function and gradient function"
   ]
  },
  {
   "cell_type": "markdown",
   "metadata": {},
   "source": [
    "#### Cost Function\n",
    "$$ J(x^{(1)},...,x^{(n_m)}, \\theta^{(1)},...,\\theta^{(n_u)}) = \\frac{1}{2}\\sum_{i,j:r(i,j)=1} ((\\theta^{(j)})^T x^{(i)} - y^{(i,j)})^2 + R $$\n",
    "where R is the Regularization term\n",
    "$$ R = (\\frac{\\lambda}{2} \\sum_{j=1}^{n_u} \\sum_{k=1}^n (\\theta_k^{(j)})^2) + (\\frac{\\lambda}{2} \\sum_{i=1}^{n_m} \\sum_{k=1}^n (x_k^{(i)})^2) $$"
   ]
  },
  {
   "cell_type": "code",
   "execution_count": 14,
   "metadata": {},
   "outputs": [],
   "source": [
    "def costfunc(TX, Y, R, l, nu, nm, nf):\n",
    "    global tc\n",
    "    st = time.time()\n",
    "    \n",
    "    # Get Theta and X\n",
    "    theta = TX[:nu*nf].reshape(nu,nf)\n",
    "    X = TX[nu*nf:].reshape(nm,nf)\n",
    "\n",
    "    # Compute inner difference yhat -y\n",
    "    diff = (X.dot(theta.T) - Y)\n",
    "    \n",
    "    # Ignore elements whose ratings are not defined \n",
    "    # by doing element-wise multiplication using r matrix\n",
    "    diff = R * diff\n",
    "    \n",
    "    # Sum of squares of all elements and divide by\n",
    "    Dr = diff.ravel()\n",
    "    cost = Dr.dot(Dr.T)\n",
    "    #cost = np.sum(np.sum(diff**2))\n",
    "    cost /= 2\n",
    "    \n",
    "    # Account regularization into cost\n",
    "    if l:\n",
    "        Tr = theta.ravel()\n",
    "        Xr = X.ravel()\n",
    "        cost += (l/2 * (Tr.dot(Tr.T) + Xr.dot(Xr.T)))\n",
    "        #cost += (l/2 * (np.sum(np.sum(theta**2)) + np.sum(np.sum(X**2))))\n",
    "    et = time.time()\n",
    "    tc += (et - st)\n",
    "    return cost"
   ]
  },
  {
   "cell_type": "code",
   "execution_count": 15,
   "metadata": {},
   "outputs": [
    {
     "name": "stdout",
     "output_type": "stream",
     "text": [
      "Cost without regularization 22.22 Cost with regularization 31.34\n"
     ]
    }
   ],
   "source": [
    "# Test cost function on subset of data\n",
    "num_users = 4; num_movies = 5; num_features = 3;\n",
    "Tsub, Xsub, Ysub, Rsub = movierT[:num_users,:num_features], movierX[:num_movies,:num_features], movierY[:num_movies,:num_users], movierR[:num_movies,:num_users]\n",
    "TX = np.hstack((Tsub.ravel(), Xsub.ravel()))\n",
    "l = 0; c1 = costfunc(TX, Ysub, Rsub, l, num_users, num_movies, num_features)\n",
    "l = 1.5; c2 = costfunc(TX, Ysub, Rsub , l, num_users, num_movies, num_features)\n",
    "print(\"Cost without regularization {:.2f} Cost with regularization {:.2f}\".format(c1, c2))"
   ]
  },
  {
   "cell_type": "markdown",
   "metadata": {},
   "source": [
    "#### Gradient Function\n",
    "$$ \\frac{\\partial J}{\\partial x_k^{(i)}} = \\sum_{j:r(i,j)=1} ((\\theta^{(j)})^T x^{(i)} - y^{(i,j)})\\theta_k^{(j)} + \\lambda x_k^{(i)} $$\n",
    "$$ \\frac{\\partial J}{\\partial \\theta_k^{(j)}} = \\sum_{i:r(i,j)=1} ((\\theta^{(j)})^T x^{(i)} - y^{(i,j)})x_k^{(i)} + \\lambda \\theta_k^{(j)} $$"
   ]
  },
  {
   "cell_type": "code",
   "execution_count": 16,
   "metadata": {},
   "outputs": [],
   "source": [
    "def gradientfunc(TX, Y, R, l, nu, nm, nf):\n",
    "    # Theta  - nu  x nf, X - nm   x nf, Y - nm   x nu,  R - nm   x nu\n",
    "    # Theta  - 943 x 10, X - 1682 x 10, Y - 1682 x 943, R - 1682 x 943\n",
    "    global tg\n",
    "    st = time.time()\n",
    "    \n",
    "    # Get Theta and X\n",
    "    theta = TX[:nu*nf].reshape(nu,nf)\n",
    "    X = TX[nu*nf:].reshape(nm,nf)\n",
    "    \n",
    "    # Initial gradient matrices for X and Theta\n",
    "    gradx = np.zeros(X.shape)\n",
    "    gradt = np.zeros(theta.shape)\n",
    "    \n",
    "    # Compute inner difference yhat -y\n",
    "    diff = (X.dot(theta.T) - Y)\n",
    "    \n",
    "    # Ignore elements whose ratings are not defined \n",
    "    # by doing element-wise multiplication using r matrix\n",
    "    diff = R * diff\n",
    "    \n",
    "    # Compute gradient matrices by multiplying correspondingly\n",
    "    gradx = diff.dot(theta)\n",
    "    gradt = diff.T.dot(X)\n",
    "    \n",
    "    # Account regularization into gradient matrix\n",
    "    if l:\n",
    "        gradx += l * X\n",
    "        gradt += l * theta\n",
    "    \n",
    "    et = time.time()\n",
    "    tg += (et - st)\n",
    "    return np.hstack((gradt.ravel(), gradx.ravel()))"
   ]
  },
  {
   "cell_type": "markdown",
   "metadata": {},
   "source": [
    "#### Gradient checking (similar to Ex4 Neural Networks Backpropagation)"
   ]
  },
  {
   "cell_type": "code",
   "execution_count": 17,
   "metadata": {},
   "outputs": [],
   "source": [
    "def gradientcheck(TX, Y, R, l, nu, nm, nf):\n",
    "    # Compute gradient for original theta  and X parameters\n",
    "    grad = gradientfunc(TX, Y, R , l, num_users, num_movies, num_features)\n",
    "    # Intitialize gradient vector and epsilon as 10^-4\n",
    "    gradApprox = np.zeros((TX.shape))\n",
    "    epsilon = 0.0001\n",
    "    # Compute cost for gradApprox, by changing one value at a time\n",
    "    for i in range(TX.shape[0]):\n",
    "        TXP = np.copy(TX)\n",
    "        TXM = np.copy(TX)\n",
    "        TXP[i] += epsilon\n",
    "        TXM[i] -= epsilon\n",
    "        JP = costfunc(TXP, Ysub, Rsub , l, num_users, num_movies, num_features)\n",
    "        JM = costfunc(TXM, Ysub, Rsub , l, num_users, num_movies, num_features)\n",
    "        gradApprox[i] = (JP - JM)/(2*epsilon)\n",
    "    return (grad, gradApprox)"
   ]
  },
  {
   "cell_type": "code",
   "execution_count": 18,
   "metadata": {},
   "outputs": [
    {
     "name": "stdout",
     "output_type": "stream",
     "text": [
      "[-2.32436292e-11  8.96571706e-12  2.07389661e-12 -5.83844084e-12\n",
      "  2.76434431e-11  1.77586834e-11  1.16561205e-11  1.28346223e-11\n",
      "  9.86677406e-12 -1.08406617e-11  3.60012020e-12  3.46955797e-12\n",
      " -9.48552348e-12 -3.99236200e-12  1.29252165e-11 -6.07824902e-12\n",
      " -6.09912121e-12  2.23853158e-11 -5.73951997e-12  7.20845605e-12\n",
      "  3.66440212e-12  1.19402821e-11 -1.42903467e-11  2.23465690e-11\n",
      " -2.10498285e-12  6.37712105e-12 -1.95431449e-11]\n"
     ]
    }
   ],
   "source": [
    "num_users = 4; num_movies = 5; num_features = 3;\n",
    "Tsub, Xsub, Ysub, Rsub = movierT[:num_users,:num_features], movierX[:num_movies,:num_features], movierY[:num_movies,:num_users], movierR[:num_movies,:num_users]\n",
    "TX = np.hstack((Tsub.ravel(), Xsub.ravel()))\n",
    "l = 1.5;\n",
    "(grad, gradApprox) = gradientcheck(TX, Ysub, Rsub, l, num_users, num_movies, num_features)\n",
    "print(grad - gradApprox)"
   ]
  },
  {
   "cell_type": "markdown",
   "metadata": {},
   "source": [
    "#### Read movie list"
   ]
  },
  {
   "cell_type": "code",
   "execution_count": 19,
   "metadata": {},
   "outputs": [
    {
     "name": "stdout",
     "output_type": "stream",
     "text": [
      "(1682, 2)\n"
     ]
    },
    {
     "data": {
      "text/html": [
       "<div>\n",
       "<style scoped>\n",
       "    .dataframe tbody tr th:only-of-type {\n",
       "        vertical-align: middle;\n",
       "    }\n",
       "\n",
       "    .dataframe tbody tr th {\n",
       "        vertical-align: top;\n",
       "    }\n",
       "\n",
       "    .dataframe thead th {\n",
       "        text-align: right;\n",
       "    }\n",
       "</style>\n",
       "<table border=\"1\" class=\"dataframe\">\n",
       "  <thead>\n",
       "    <tr style=\"text-align: right;\">\n",
       "      <th></th>\n",
       "      <th>Index</th>\n",
       "      <th>Movies</th>\n",
       "    </tr>\n",
       "  </thead>\n",
       "  <tbody>\n",
       "    <tr>\n",
       "      <th>0</th>\n",
       "      <td>1</td>\n",
       "      <td>Toy Story (1995)</td>\n",
       "    </tr>\n",
       "    <tr>\n",
       "      <th>1</th>\n",
       "      <td>2</td>\n",
       "      <td>GoldenEye (1995)</td>\n",
       "    </tr>\n",
       "    <tr>\n",
       "      <th>2</th>\n",
       "      <td>3</td>\n",
       "      <td>Four Rooms (1995)</td>\n",
       "    </tr>\n",
       "    <tr>\n",
       "      <th>3</th>\n",
       "      <td>4</td>\n",
       "      <td>Get Shorty (1995)</td>\n",
       "    </tr>\n",
       "    <tr>\n",
       "      <th>4</th>\n",
       "      <td>5</td>\n",
       "      <td>Copycat (1995)</td>\n",
       "    </tr>\n",
       "  </tbody>\n",
       "</table>\n",
       "</div>"
      ],
      "text/plain": [
       "   Index             Movies\n",
       "0      1   Toy Story (1995)\n",
       "1      2   GoldenEye (1995)\n",
       "2      3  Four Rooms (1995)\n",
       "3      4  Get Shorty (1995)\n",
       "4      5     Copycat (1995)"
      ]
     },
     "execution_count": 19,
     "metadata": {},
     "output_type": "execute_result"
    }
   ],
   "source": [
    "movielist = pd.read_csv('movie_ids.txt', sep=\"\\t\", header=None,encoding='latin-1')\n",
    "movielist.columns = [\"Index\", \"Movies\"]\n",
    "print(movielist.shape)\n",
    "movielist.head()"
   ]
  },
  {
   "cell_type": "markdown",
   "metadata": {},
   "source": [
    "Add a user entry with some ratings for movies"
   ]
  },
  {
   "cell_type": "code",
   "execution_count": 20,
   "metadata": {},
   "outputs": [
    {
     "name": "stdout",
     "output_type": "stream",
     "text": [
      "(1682, 944) (1682, 944)\n"
     ]
    }
   ],
   "source": [
    "# New user\n",
    "my_ratings = np.zeros((movierNumMovies, 1))\n",
    "my_ratings[0] = 4\n",
    "my_ratings[97] = 2\n",
    "my_ratings[6] = 3\n",
    "my_ratings[11]= 5\n",
    "my_ratings[53] = 4\n",
    "my_ratings[63]= 5\n",
    "my_ratings[65]= 3\n",
    "my_ratings[68] = 5\n",
    "my_ratings[182] = 4\n",
    "my_ratings[225] = 5\n",
    "my_ratings[354]= 5\n",
    "\n",
    "# Add to Y and R matrices\n",
    "Yf = np.hstack((my_ratings, movierY))\n",
    "Rf = np.hstack(((my_ratings != 0), movierR))\n",
    "print(Yf.shape, Rf.shape)"
   ]
  },
  {
   "cell_type": "code",
   "execution_count": 21,
   "metadata": {},
   "outputs": [
    {
     "name": "stdout",
     "output_type": "stream",
     "text": [
      "Original ratings\n",
      "Rated 4.0 for Toy Story (1995)\n",
      "Rated 3.0 for Twelve Monkeys (1995)\n",
      "Rated 5.0 for Usual Suspects, The (1995)\n",
      "Rated 4.0 for Outbreak (1995)\n",
      "Rated 5.0 for Shawshank Redemption, The (1994)\n",
      "Rated 3.0 for While You Were Sleeping (1995)\n",
      "Rated 5.0 for Forrest Gump (1994)\n",
      "Rated 2.0 for Silence of the Lambs, The (1991)\n",
      "Rated 4.0 for Alien (1979)\n",
      "Rated 5.0 for Die Hard 2 (1990)\n",
      "Rated 5.0 for Sphere (1998)\n"
     ]
    }
   ],
   "source": [
    "# Print rated movies\n",
    "print(\"Original ratings\")\n",
    "for i in range(len(my_ratings)):\n",
    "    if(my_ratings[i] > 0):\n",
    "        print(\"Rated {:.1f} for {}\".format(my_ratings[i][0], movielist['Movies'][i]))"
   ]
  },
  {
   "cell_type": "markdown",
   "metadata": {},
   "source": [
    "#### Normalize ratings"
   ]
  },
  {
   "cell_type": "code",
   "execution_count": 22,
   "metadata": {},
   "outputs": [],
   "source": [
    "def normalizeRatings(Y, R):\n",
    "    Ynorm = np.zeros(Y.shape)\n",
    "    Ymean = np.zeros(Y.shape[0])\n",
    "    for i in range(Y.shape[0]):\n",
    "        sub = R[i,:]==1\n",
    "        Ymean[i] = np.mean(Y[i,sub])\n",
    "        Ynorm[i,sub] = Y[i,sub] - Ymean[i]\n",
    "    return (Ynorm, Ymean)"
   ]
  },
  {
   "cell_type": "code",
   "execution_count": 23,
   "metadata": {},
   "outputs": [
    {
     "name": "stdout",
     "output_type": "stream",
     "text": [
      "(1682, 944) (1682,)\n"
     ]
    }
   ],
   "source": [
    "(Ynorm, Ymean) = normalizeRatings(Yf, Rf)\n",
    "print(Ynorm.shape, Ymean.shape)"
   ]
  },
  {
   "cell_type": "markdown",
   "metadata": {},
   "source": [
    "### Learning parameters using Advanced Optimization\n",
    "Use the optimization method in scipy library."
   ]
  },
  {
   "cell_type": "code",
   "execution_count": 24,
   "metadata": {},
   "outputs": [
    {
     "name": "stdout",
     "output_type": "stream",
     "text": [
      "(1682, 10) (944, 10)\n"
     ]
    }
   ],
   "source": [
    "# Initial random values for parameters X and Theta\n",
    "X_init = np.random.randn(movierNumMovies,movierNumFeatures)\n",
    "T_init = np.random.randn(movierNumUsers+1,movierNumFeatures)\n",
    "print(X_init.shape, T_init.shape)"
   ]
  },
  {
   "cell_type": "code",
   "execution_count": 25,
   "metadata": {},
   "outputs": [
    {
     "name": "stdout",
     "output_type": "stream",
     "text": [
      "Time take to optimize 7.598676919937134\n",
      "Total Time take to calculate cost 3.6133697032928467\n",
      "Total Time take to calculate gradient 3.6185343265533447\n",
      "Initial Cost 672196.61 Final cost 38980.00\n"
     ]
    }
   ],
   "source": [
    "l = 10\n",
    "TX = np.hstack((T_init.ravel(), X_init.ravel()))\n",
    "tc = tg = 0\n",
    "st = time.time()\n",
    "Result = op.minimize(fun = costfunc, \n",
    "                         x0 = TX, \n",
    "                         args = (Ynorm, Rf, l, movierNumUsers+1, movierNumMovies, movierNumFeatures),\n",
    "                         method = 'CG',\n",
    "                         jac = gradientfunc,\n",
    "                        options = {'maxiter': 100});\n",
    "et = time.time()\n",
    "optimal_tx = Result.x;\n",
    "initcost = costfunc(TX, Ynorm, Rf, l, movierNumUsers+1, movierNumMovies, movierNumFeatures)\n",
    "finalcost = costfunc(optimal_tx, Ynorm, Rf, l, movierNumUsers+1, movierNumMovies, movierNumFeatures)\n",
    "print(\"Time take to optimize\", (et-st))\n",
    "print(\"Total Time take to calculate cost\", tc)\n",
    "print(\"Total Time take to calculate gradient\", tg)\n",
    "print(\"Initial Cost {:.2f} Final cost {:.2f}\".format(initcost, finalcost))\n",
    "\n",
    "optimal_theta = optimal_tx[:(movierNumUsers+1)*movierNumFeatures].reshape(movierNumUsers+1,movierNumFeatures)\n",
    "optimal_X = optimal_tx[(movierNumUsers+1)*movierNumFeatures:].reshape(movierNumMovies,movierNumFeatures)"
   ]
  },
  {
   "cell_type": "markdown",
   "metadata": {},
   "source": [
    "### Top Movie Recommendations"
   ]
  },
  {
   "cell_type": "code",
   "execution_count": 26,
   "metadata": {},
   "outputs": [
    {
     "name": "stdout",
     "output_type": "stream",
     "text": [
      "Top recommendations for you\n",
      "Predicted rating 5.0 for Great Day in Harlem, A (1994)\n",
      "Predicted rating 5.0 for Aiqing wansui (1994)\n",
      "Predicted rating 5.0 for Someone Else's America (1995)\n",
      "Predicted rating 5.0 for Entertaining Angels: The Dorothy Day Story (1996)\n",
      "Predicted rating 5.0 for Prefontaine (1997)\n",
      "Predicted rating 5.0 for They Made Me a Criminal (1939)\n",
      "Predicted rating 5.0 for Marlene Dietrich: Shadow and Light (1996) \n",
      "Predicted rating 5.0 for Star Kid (1997)\n",
      "Predicted rating 5.0 for Saint of Fort Washington, The (1993)\n",
      "Predicted rating 5.0 for Santa with Muscles (1996)\n"
     ]
    }
   ],
   "source": [
    "yhat = optimal_X.dot(optimal_theta.T)\n",
    "my_predictions = yhat[:,0] + Ymean\n",
    "# Get the indices of weights sorted weights\n",
    "p_sort = np.argsort(my_predictions)\n",
    "# Get descended sorted copy\n",
    "p_rsort = p_sort[::-1]\n",
    "print(\"Top recommendations for you\")\n",
    "for i in range(10):\n",
    "    ind = p_rsort[i]\n",
    "    print(\"Predicted rating {:.1f} for {}\".format(my_predictions[ind], movielist['Movies'][ind]))"
   ]
  },
  {
   "cell_type": "code",
   "execution_count": null,
   "metadata": {},
   "outputs": [],
   "source": []
  }
 ],
 "metadata": {
  "kernelspec": {
   "display_name": "Python 3",
   "language": "python",
   "name": "python3"
  },
  "language_info": {
   "codemirror_mode": {
    "name": "ipython",
    "version": 3
   },
   "file_extension": ".py",
   "mimetype": "text/x-python",
   "name": "python",
   "nbconvert_exporter": "python",
   "pygments_lexer": "ipython3",
   "version": "3.8.3"
  }
 },
 "nbformat": 4,
 "nbformat_minor": 4
}

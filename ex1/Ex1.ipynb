{
 "cells": [
  {
   "cell_type": "markdown",
   "metadata": {
    "pycharm": {
     "is_executing": false,
     "name": "#%%\n"
    }
   },
   "source": [
    "# <center>Linear regression</center>\n"
   ]
  },
  {
   "cell_type": "markdown",
   "metadata": {},
   "source": [
    "## Linear regression with one variable"
   ]
  },
  {
   "cell_type": "markdown",
   "metadata": {},
   "source": [
    "Importing Libraries"
   ]
  },
  {
   "cell_type": "code",
   "execution_count": 1,
   "metadata": {},
   "outputs": [],
   "source": [
    "import numpy as np\n",
    "import pandas as pd\n",
    "import matplotlib.pyplot as plt\n",
    "from mpl_toolkits.mplot3d import Axes3D\n",
    "from matplotlib import cm\n",
    "\n",
    "from sklearn.model_selection import train_test_split \n",
    "from sklearn.linear_model import LinearRegression\n",
    "from sklearn import metrics"
   ]
  },
  {
   "cell_type": "markdown",
   "metadata": {},
   "source": [
    "Read text file containing Population and Profits data and view its head"
   ]
  },
  {
   "cell_type": "code",
   "execution_count": 2,
   "metadata": {
    "collapsed": false,
    "jupyter": {
     "outputs_hidden": false
    },
    "pycharm": {
     "name": "#%%\n"
    }
   },
   "outputs": [
    {
     "name": "stdout",
     "output_type": "stream",
     "text": [
      "(97, 2)\n"
     ]
    },
    {
     "data": {
      "text/html": [
       "<div>\n",
       "<style scoped>\n",
       "    .dataframe tbody tr th:only-of-type {\n",
       "        vertical-align: middle;\n",
       "    }\n",
       "\n",
       "    .dataframe tbody tr th {\n",
       "        vertical-align: top;\n",
       "    }\n",
       "\n",
       "    .dataframe thead th {\n",
       "        text-align: right;\n",
       "    }\n",
       "</style>\n",
       "<table border=\"1\" class=\"dataframe\">\n",
       "  <thead>\n",
       "    <tr style=\"text-align: right;\">\n",
       "      <th></th>\n",
       "      <th>Population</th>\n",
       "      <th>Profit</th>\n",
       "    </tr>\n",
       "  </thead>\n",
       "  <tbody>\n",
       "    <tr>\n",
       "      <th>0</th>\n",
       "      <td>6.1101</td>\n",
       "      <td>17.5920</td>\n",
       "    </tr>\n",
       "    <tr>\n",
       "      <th>1</th>\n",
       "      <td>5.5277</td>\n",
       "      <td>9.1302</td>\n",
       "    </tr>\n",
       "    <tr>\n",
       "      <th>2</th>\n",
       "      <td>8.5186</td>\n",
       "      <td>13.6620</td>\n",
       "    </tr>\n",
       "    <tr>\n",
       "      <th>3</th>\n",
       "      <td>7.0032</td>\n",
       "      <td>11.8540</td>\n",
       "    </tr>\n",
       "    <tr>\n",
       "      <th>4</th>\n",
       "      <td>5.8598</td>\n",
       "      <td>6.8233</td>\n",
       "    </tr>\n",
       "  </tbody>\n",
       "</table>\n",
       "</div>"
      ],
      "text/plain": [
       "   Population   Profit\n",
       "0      6.1101  17.5920\n",
       "1      5.5277   9.1302\n",
       "2      8.5186  13.6620\n",
       "3      7.0032  11.8540\n",
       "4      5.8598   6.8233"
      ]
     },
     "execution_count": 2,
     "metadata": {},
     "output_type": "execute_result"
    }
   ],
   "source": [
    "df = pd.read_csv(\"ex1data1.txt\", header=None)\n",
    "headers = ['Population', 'Profit']\n",
    "df.columns = headers\n",
    "print(df.shape)\n",
    "df.head()"
   ]
  },
  {
   "cell_type": "markdown",
   "metadata": {},
   "source": [
    "View the distribution of population vs profit using a scatter plot"
   ]
  },
  {
   "cell_type": "code",
   "execution_count": 3,
   "metadata": {},
   "outputs": [
    {
     "data": {
      "text/plain": [
       "Text(0, 0.5, 'Profit')"
      ]
     },
     "execution_count": 3,
     "metadata": {},
     "output_type": "execute_result"
    },
    {
     "data": {
      "image/png": "[encoded data removed]",
      "text/plain": [
       "<Figure size 720x432 with 1 Axes>"
      ]
     },
     "metadata": {
      "needs_background": "light"
     },
     "output_type": "display_data"
    }
   ],
   "source": [
    "plt.figure(figsize=(10,6))\n",
    "plt.scatter(df['Population'], df['Profit'], marker='o', facecolors='none', edgecolors='b')\n",
    "ax = plt.gca()\n",
    "ax.set_xlabel('Population')\n",
    "ax.set_ylabel('Profit')"
   ]
  },
  {
   "cell_type": "markdown",
   "metadata": {},
   "source": [
    "### Fit a line using Linear Regression built-in model"
   ]
  },
  {
   "cell_type": "markdown",
   "metadata": {},
   "source": [
    "Split data into training and test set"
   ]
  },
  {
   "cell_type": "code",
   "execution_count": 4,
   "metadata": {},
   "outputs": [],
   "source": [
    "X_train, X_test, y_train, y_test = train_test_split(df[['Population']], df[['Profit']], test_size=0.45, random_state=0)"
   ]
  },
  {
   "cell_type": "markdown",
   "metadata": {},
   "source": [
    "Initialize Linear Regression object, Train data to build a model and print the coefficients"
   ]
  },
  {
   "cell_type": "code",
   "execution_count": 5,
   "metadata": {},
   "outputs": [
    {
     "name": "stdout",
     "output_type": "stream",
     "text": [
      "y_pred =  [[1.24241584]] X_test + [-4.05776436]\n"
     ]
    }
   ],
   "source": [
    "lr = LinearRegression()\n",
    "lr.fit(X_train, y_train)\n",
    "print(\"y_pred = \", lr.coef_, \"X_test +\", lr.intercept_)"
   ]
  },
  {
   "cell_type": "markdown",
   "metadata": {},
   "source": [
    "Predict output for test data"
   ]
  },
  {
   "cell_type": "code",
   "execution_count": 6,
   "metadata": {},
   "outputs": [],
   "source": [
    "y_pred = lr.predict(X_test)"
   ]
  },
  {
   "cell_type": "markdown",
   "metadata": {},
   "source": [
    "#### Evaluation\n",
    "we compare the actual values and predicted values to calculate the accuracy of a regression model. Evaluation metrics provide a key role in the development of a model, as it provides insight to areas that require improvement.\n",
    "There are different model evaluation metrics, lets use MSE here to calculate the accuracy of our model based on the test set:\n",
    " - Mean absolute error: It is the mean of the absolute value of the errors. This is the easiest of the metrics to understand since it’s just average error.\n",
    " - Mean Squared Error (MSE): Mean Squared Error (MSE) is the mean of the squared error. It’s more popular than Mean absolute error because the focus is geared more towards large errors. This is due to the squared term exponentially increasing larger errors in comparison to smaller ones.\n",
    " - Root Mean Squared Error (RMSE).\n",
    " - R-squared is not error, but is a popular metric for accuracy of your model. It represents how close the data are to the fitted regression line. The higher the R-squared, the better the model fits your data. Best possible score is 1.0 and it can be negative (because the model can be arbitrarily worse)"
   ]
  },
  {
   "cell_type": "markdown",
   "metadata": {},
   "source": [
    "Plot the training, test data and the fitted line"
   ]
  },
  {
   "cell_type": "code",
   "execution_count": 7,
   "metadata": {},
   "outputs": [
    {
     "name": "stdout",
     "output_type": "stream",
     "text": [
      "Linear Regression Score for training data: 0.7630697164335629\n",
      "Linear Regression Score for test data: 0.5134962602693296\n",
      "Mean absolute error: 2.36\n",
      "Residual sum of squares (MSE): 8.96\n",
      "R2-score: 0.38\n"
     ]
    }
   ],
   "source": [
    "print(\"Linear Regression Score for training data:\", lr.score(X_train, y_train))\n",
    "print(\"Linear Regression Score for test data:\", lr.score(X_test, y_test))\n",
    "print(\"Mean absolute error: %.2f\" % np.mean(np.absolute(y_pred - y_test)))\n",
    "print(\"Residual sum of squares (MSE): %.2f\" % np.mean((y_pred - y_test) ** 2))\n",
    "print(\"R2-score: %.2f\" % metrics.r2_score(y_pred , y_test) )"
   ]
  },
  {
   "cell_type": "code",
   "execution_count": 8,
   "metadata": {},
   "outputs": [
    {
     "data": {
      "image/png": "[encoded data removed]",
      "text/plain": [
       "<Figure size 720x432 with 1 Axes>"
      ]
     },
     "metadata": {
      "needs_background": "light"
     },
     "output_type": "display_data"
    }
   ],
   "source": [
    "plt.figure(figsize=(10,6))\n",
    "plt.scatter(X_train, y_train, marker='o', facecolors='none', edgecolors='g', label=\"Training Data\")\n",
    "plt.scatter(X_test, y_test, marker='o', facecolors='none', edgecolors='r', label=\"Test Data\")\n",
    "plt.plot(X_test, y_pred, color='red', linewidth=2, label=\"Linear Regression\")\n",
    "ax = plt.gca()\n",
    "ax.set_xlabel('Population')\n",
    "ax.set_ylabel('Profit')\n",
    "plt.legend(loc=\"upper left\")\n",
    "plt.show()"
   ]
  },
  {
   "cell_type": "markdown",
   "metadata": {},
   "source": [
    "### Fit a line using Gradient Descent"
   ]
  },
  {
   "cell_type": "markdown",
   "metadata": {},
   "source": [
    "Objective is to minimize the cost function $$J( \\theta )= \\frac{1}{2m}\\sum_{i=1}^m (h_ \\theta (x^{(i)}) - y^{(i)})^2$$ where $$h_ \\theta (x) = \\theta^TX = \\theta _0 + \\theta _1x_1$$"
   ]
  },
  {
   "cell_type": "markdown",
   "metadata": {},
   "source": [
    "Initialize $ \\theta _0$ and $ \\theta _1$ to some random values say 0, 0 and simultaneously update $\\theta_j$ $$ \\theta _j := \\theta _j - \\alpha \\frac{1}{m}\\sum_{i=1}^m (h_ \\theta (x^{(i)}) - y^{(i)})x_j^{(i)}$$"
   ]
  },
  {
   "cell_type": "code",
   "execution_count": 9,
   "metadata": {},
   "outputs": [
    {
     "name": "stdout",
     "output_type": "stream",
     "text": [
      "Shape of X (97,)\n",
      "Shape of y (97,)\n"
     ]
    }
   ],
   "source": [
    "X = np.array(df['Population'])\n",
    "y = np.array(df['Profit'])\n",
    "\n",
    "# Original shape of data\n",
    "print(\"Shape of X\", X.shape)\n",
    "print(\"Shape of y\", y.shape)"
   ]
  },
  {
   "cell_type": "markdown",
   "metadata": {},
   "source": [
    "We need to append a column of ones at the beginning of feature matrix to represent $\\theta_0$. We also need to reshape the data from 1D to 2D form"
   ]
  },
  {
   "cell_type": "code",
   "execution_count": 10,
   "metadata": {},
   "outputs": [],
   "source": [
    "numSamples = df['Population'].shape[0]\n",
    "ones = np.ones(numSamples).reshape(numSamples, 1)\n",
    "X = X.reshape(numSamples, 1)\n",
    "X = np.hstack((ones, X))\n",
    "y = y.reshape(numSamples, 1)\n",
    "numFeatures = X.shape[1]"
   ]
  },
  {
   "cell_type": "code",
   "execution_count": 11,
   "metadata": {},
   "outputs": [
    {
     "name": "stdout",
     "output_type": "stream",
     "text": [
      "Shape of X (97, 2)\n",
      "Shape of y (97, 1)\n"
     ]
    }
   ],
   "source": [
    "# Check the new shape\n",
    "print(\"Shape of X\", X.shape)\n",
    "print(\"Shape of y\", y.shape)"
   ]
  },
  {
   "cell_type": "markdown",
   "metadata": {},
   "source": [
    "Function to calculate cost. This will be used to find minimum cost for different $\\theta$ values"
   ]
  },
  {
   "cell_type": "code",
   "execution_count": 12,
   "metadata": {},
   "outputs": [],
   "source": [
    "def computecost(X, y, theta):\n",
    "    # Compute hypothesis\n",
    "    yhat = X.dot(theta)\n",
    "    \n",
    "    # Compute error vector\n",
    "    diff = yhat - y\n",
    "    \n",
    "    # Compute sum of squares of a vector by either squaring each element followed by summation, \n",
    "    # or by dot product the vector with its transpose. Both will give same results.\n",
    "    # Here the latter approach is used.\n",
    "    # squares = np.square(diff)\n",
    "    # sumsquares = np.sum(squares)\n",
    "    sumsquares = diff.T.dot(diff)\n",
    "    \n",
    "    # Finally compute cost by dividing the sum of squares by (2 * number of samples).\n",
    "    cost = sumsquares/(2*X.shape[0])\n",
    "    return cost"
   ]
  },
  {
   "cell_type": "markdown",
   "metadata": {},
   "source": [
    "Example to calculate cost for (0, 0) values for $\\theta$"
   ]
  },
  {
   "cell_type": "code",
   "execution_count": 13,
   "metadata": {},
   "outputs": [
    {
     "name": "stdout",
     "output_type": "stream",
     "text": [
      "(2, 1)\n"
     ]
    },
    {
     "data": {
      "text/plain": [
       "array([[32.07273388]])"
      ]
     },
     "execution_count": 13,
     "metadata": {},
     "output_type": "execute_result"
    }
   ],
   "source": [
    "theta = np.zeros((numFeatures, 1))\n",
    "print(theta.shape)\n",
    "computecost(X, y, theta)"
   ]
  },
  {
   "cell_type": "markdown",
   "metadata": {},
   "source": [
    "Function to update $\\theta$ values in each gradient descent iteration.\n",
    "$$ \\theta _j := \\theta _j - \\alpha \\frac{1}{m}\\sum_{i=1}^m (h_ \\theta (x^{(i)}) - y^{(i)})x_j^{(i)}$$"
   ]
  },
  {
   "cell_type": "code",
   "execution_count": 14,
   "metadata": {},
   "outputs": [],
   "source": [
    "def updatetheta(X, y, theta, alpha):\n",
    "    # Declare product vector of size (NumFeatures x 1)\n",
    "    productArr = np.zeros((theta.shape[0], 1))\n",
    "    \n",
    "    # Compute hypothesis\n",
    "    yhat = X.dot(theta)\n",
    "    \n",
    "    # Compute error vector\n",
    "    diff = yhat-y\n",
    "    \n",
    "    # Update theta\n",
    "    for j in range(numFeatures):\n",
    "        # Get the vector array of jth feature\n",
    "        xj = X[:,j]\n",
    "        # Convert the 1D array data type of size (number of samples) into a 1D vector of dimension (number of samples x 1).\n",
    "        xj = xj.reshape(X.shape[0], 1)\n",
    "        # Compute product of error vector and the feature vector corresponding to the theta value being updated.\n",
    "        productArr[j] = np.sum(diff*xj)\n",
    "        # Adjust the product by alpha and m values\n",
    "        productArr[j] = productArr[j]*alpha/X.shape[0]\n",
    "        # Finally compute the updated theta value\n",
    "        theta[j] = theta[j] - productArr[j]\n",
    "    return theta"
   ]
  },
  {
   "cell_type": "markdown",
   "metadata": {},
   "source": [
    "Calculate minimum cost for $\\theta$ values by iteration. Initialize alpha to 0.01. We also store the updated theta values to later use for plotting."
   ]
  },
  {
   "cell_type": "code",
   "execution_count": 15,
   "metadata": {},
   "outputs": [
    {
     "name": "stdout",
     "output_type": "stream",
     "text": [
      "Final theta [[-3.63029144]\n",
      " [ 1.16636235]]\n",
      "Final cost [[4.48338826]]\n"
     ]
    }
   ],
   "source": [
    "iterations = 1500\n",
    "alpha = 0.01\n",
    "theta = np.zeros((numFeatures,1))\n",
    "Theta_0 = np.zeros(iterations)\n",
    "Theta_1 = np.zeros(iterations)\n",
    "for i in range(0,iterations):\n",
    "    Theta_0[i] = theta[0]\n",
    "    Theta_1[i] = theta[1]\n",
    "    theta = updatetheta(X, y, theta, alpha)\n",
    "print(\"Final theta\", theta)\n",
    "cost = computecost(X, y, theta)\n",
    "print(\"Final cost\", cost)"
   ]
  },
  {
   "cell_type": "markdown",
   "metadata": {},
   "source": [
    "#### Plot the actual data and data predicted using Gradient Descent"
   ]
  },
  {
   "cell_type": "markdown",
   "metadata": {},
   "source": [
    "We need to convert the $\\theta$ vectors to 2D shape using Numpy meshgrid as the matplotlib plot_surface API expects data in 2D format."
   ]
  },
  {
   "cell_type": "code",
   "execution_count": 16,
   "metadata": {},
   "outputs": [
    {
     "name": "stdout",
     "output_type": "stream",
     "text": [
      "(1500,) (1500,)\n",
      "(1500, 1500) (1500, 1500)\n"
     ]
    }
   ],
   "source": [
    "print(Theta_0.shape, Theta_1.shape)\n",
    "Theta_0, Theta_1 = np.meshgrid(Theta_0, Theta_1)\n",
    "print(Theta_0.shape, Theta_1.shape)"
   ]
  },
  {
   "cell_type": "markdown",
   "metadata": {},
   "source": [
    "Create a table to store cost J($\\theta$) values for all combination of $\\theta$ values."
   ]
  },
  {
   "cell_type": "code",
   "execution_count": 17,
   "metadata": {},
   "outputs": [],
   "source": [
    "count = (iterations * iterations)\n",
    "Z = np.zeros((iterations, iterations))\n",
    "temp_theta = np.zeros((numFeatures, 1))\n",
    "for i in range(0,iterations):\n",
    "    for j in range(0,iterations):\n",
    "        temp_theta[0] = Theta_0[i, j]\n",
    "        temp_theta[1] = Theta_1[i, j]\n",
    "        Z[i, j] = computecost(X, y, temp_theta)"
   ]
  },
  {
   "cell_type": "markdown",
   "metadata": {},
   "source": [
    "Finally draw a 3D plot to view the gradient descent in action"
   ]
  },
  {
   "cell_type": "code",
   "execution_count": 18,
   "metadata": {},
   "outputs": [
    {
     "data": {
      "image/png": "[encoded data removed]",
      "text/plain": [
       "<Figure size 720x432 with 2 Axes>"
      ]
     },
     "metadata": {
      "needs_background": "light"
     },
     "output_type": "display_data"
    }
   ],
   "source": [
    "fig = plt.figure(figsize=(10,6))\n",
    "ax = fig.add_subplot(111, projection='3d')\n",
    "surf = ax.plot_surface(Theta_0, Theta_1, Z, cmap=cm.coolwarm,\n",
    "                       linewidth=0, antialiased=False)\n",
    "# Add a color bar which maps values to colors.\n",
    "fig.colorbar(surf, shrink=0.5, aspect=5)\n",
    "ax.set_xlabel('$\\\\theta_0$')\n",
    "ax.set_ylabel('$\\\\theta_1$')\n",
    "ax.set_zlabel('Cost')\n",
    "plt.show()"
   ]
  },
  {
   "cell_type": "markdown",
   "metadata": {},
   "source": [
    "## Linear regression with multiple variable"
   ]
  },
  {
   "cell_type": "markdown",
   "metadata": {},
   "source": [
    "Read text file containing Square Feet of house, Number of bedrooms and price of the house data and view its head"
   ]
  },
  {
   "cell_type": "code",
   "execution_count": 19,
   "metadata": {},
   "outputs": [
    {
     "data": {
      "text/html": [
       "<div>\n",
       "<style scoped>\n",
       "    .dataframe tbody tr th:only-of-type {\n",
       "        vertical-align: middle;\n",
       "    }\n",
       "\n",
       "    .dataframe tbody tr th {\n",
       "        vertical-align: top;\n",
       "    }\n",
       "\n",
       "    .dataframe thead th {\n",
       "        text-align: right;\n",
       "    }\n",
       "</style>\n",
       "<table border=\"1\" class=\"dataframe\">\n",
       "  <thead>\n",
       "    <tr style=\"text-align: right;\">\n",
       "      <th></th>\n",
       "      <th>Sqft</th>\n",
       "      <th>Bedroom</th>\n",
       "      <th>Price</th>\n",
       "    </tr>\n",
       "  </thead>\n",
       "  <tbody>\n",
       "    <tr>\n",
       "      <th>0</th>\n",
       "      <td>2104</td>\n",
       "      <td>3</td>\n",
       "      <td>399900</td>\n",
       "    </tr>\n",
       "    <tr>\n",
       "      <th>1</th>\n",
       "      <td>1600</td>\n",
       "      <td>3</td>\n",
       "      <td>329900</td>\n",
       "    </tr>\n",
       "    <tr>\n",
       "      <th>2</th>\n",
       "      <td>2400</td>\n",
       "      <td>3</td>\n",
       "      <td>369000</td>\n",
       "    </tr>\n",
       "    <tr>\n",
       "      <th>3</th>\n",
       "      <td>1416</td>\n",
       "      <td>2</td>\n",
       "      <td>232000</td>\n",
       "    </tr>\n",
       "    <tr>\n",
       "      <th>4</th>\n",
       "      <td>3000</td>\n",
       "      <td>4</td>\n",
       "      <td>539900</td>\n",
       "    </tr>\n",
       "  </tbody>\n",
       "</table>\n",
       "</div>"
      ],
      "text/plain": [
       "   Sqft  Bedroom   Price\n",
       "0  2104        3  399900\n",
       "1  1600        3  329900\n",
       "2  2400        3  369000\n",
       "3  1416        2  232000\n",
       "4  3000        4  539900"
      ]
     },
     "execution_count": 19,
     "metadata": {},
     "output_type": "execute_result"
    }
   ],
   "source": [
    "multidata_df = pd.read_csv('ex1data2.txt', names=['Sqft', 'Bedroom', 'Price'])\n",
    "multidata_df.head()"
   ]
  },
  {
   "cell_type": "markdown",
   "metadata": {},
   "source": [
    "Lets visualize the data using 3D scatter plot."
   ]
  },
  {
   "cell_type": "code",
   "execution_count": 20,
   "metadata": {},
   "outputs": [
    {
     "data": {
      "image/png": "[encoded data removed]",
      "text/plain": [
       "<Figure size 576x288 with 1 Axes>"
      ]
     },
     "metadata": {
      "needs_background": "light"
     },
     "output_type": "display_data"
    }
   ],
   "source": [
    "fig = plt.figure(figsize=(8, 4))\n",
    "ax = fig.add_subplot(111, projection='3d')\n",
    "scatter = ax.scatter(multidata_df['Sqft'], multidata_df['Bedroom'], multidata_df['Price'])\n",
    "ax.set_xlabel('Sqft')\n",
    "ax.set_ylabel('Bedrooms')\n",
    "ax.set_zlabel('Price')\n",
    "plt.show()"
   ]
  },
  {
   "cell_type": "code",
   "execution_count": 21,
   "metadata": {},
   "outputs": [
    {
     "data": {
      "image/png": "[encoded data removed]",
      "text/plain": [
       "<Figure size 864x288 with 2 Axes>"
      ]
     },
     "metadata": {
      "needs_background": "light"
     },
     "output_type": "display_data"
    }
   ],
   "source": [
    "fig = plt.figure(figsize=(12, 4))\n",
    "ax1 = fig.add_subplot(121)\n",
    "scatter = ax1.scatter(multidata_df['Sqft'], multidata_df['Price'])\n",
    "ax1.set_xlabel('Sqft')\n",
    "ax1.set_ylabel('Price')\n",
    "ax2 = fig.add_subplot(122)\n",
    "scatter = ax2.scatter(multidata_df['Bedroom'], multidata_df['Price'])\n",
    "ax2.set_xlabel('Bedroom')\n",
    "ax2.set_ylabel('Price')\n",
    "plt.show()"
   ]
  },
  {
   "cell_type": "markdown",
   "metadata": {},
   "source": [
    "Look at data stats"
   ]
  },
  {
   "cell_type": "code",
   "execution_count": 22,
   "metadata": {},
   "outputs": [
    {
     "data": {
      "text/html": [
       "<div>\n",
       "<style scoped>\n",
       "    .dataframe tbody tr th:only-of-type {\n",
       "        vertical-align: middle;\n",
       "    }\n",
       "\n",
       "    .dataframe tbody tr th {\n",
       "        vertical-align: top;\n",
       "    }\n",
       "\n",
       "    .dataframe thead th {\n",
       "        text-align: right;\n",
       "    }\n",
       "</style>\n",
       "<table border=\"1\" class=\"dataframe\">\n",
       "  <thead>\n",
       "    <tr style=\"text-align: right;\">\n",
       "      <th></th>\n",
       "      <th>Sqft</th>\n",
       "      <th>Bedroom</th>\n",
       "      <th>Price</th>\n",
       "    </tr>\n",
       "  </thead>\n",
       "  <tbody>\n",
       "    <tr>\n",
       "      <th>count</th>\n",
       "      <td>47.000000</td>\n",
       "      <td>47.000000</td>\n",
       "      <td>47.000000</td>\n",
       "    </tr>\n",
       "    <tr>\n",
       "      <th>mean</th>\n",
       "      <td>2000.680851</td>\n",
       "      <td>3.170213</td>\n",
       "      <td>340412.659574</td>\n",
       "    </tr>\n",
       "    <tr>\n",
       "      <th>std</th>\n",
       "      <td>794.702354</td>\n",
       "      <td>0.760982</td>\n",
       "      <td>125039.899586</td>\n",
       "    </tr>\n",
       "    <tr>\n",
       "      <th>min</th>\n",
       "      <td>852.000000</td>\n",
       "      <td>1.000000</td>\n",
       "      <td>169900.000000</td>\n",
       "    </tr>\n",
       "    <tr>\n",
       "      <th>25%</th>\n",
       "      <td>1432.000000</td>\n",
       "      <td>3.000000</td>\n",
       "      <td>249900.000000</td>\n",
       "    </tr>\n",
       "    <tr>\n",
       "      <th>50%</th>\n",
       "      <td>1888.000000</td>\n",
       "      <td>3.000000</td>\n",
       "      <td>299900.000000</td>\n",
       "    </tr>\n",
       "    <tr>\n",
       "      <th>75%</th>\n",
       "      <td>2269.000000</td>\n",
       "      <td>4.000000</td>\n",
       "      <td>384450.000000</td>\n",
       "    </tr>\n",
       "    <tr>\n",
       "      <th>max</th>\n",
       "      <td>4478.000000</td>\n",
       "      <td>5.000000</td>\n",
       "      <td>699900.000000</td>\n",
       "    </tr>\n",
       "  </tbody>\n",
       "</table>\n",
       "</div>"
      ],
      "text/plain": [
       "              Sqft    Bedroom          Price\n",
       "count    47.000000  47.000000      47.000000\n",
       "mean   2000.680851   3.170213  340412.659574\n",
       "std     794.702354   0.760982  125039.899586\n",
       "min     852.000000   1.000000  169900.000000\n",
       "25%    1432.000000   3.000000  249900.000000\n",
       "50%    1888.000000   3.000000  299900.000000\n",
       "75%    2269.000000   4.000000  384450.000000\n",
       "max    4478.000000   5.000000  699900.000000"
      ]
     },
     "execution_count": 22,
     "metadata": {},
     "output_type": "execute_result"
    }
   ],
   "source": [
    "multidata_df.describe()"
   ]
  },
  {
   "cell_type": "markdown",
   "metadata": {},
   "source": [
    "Lets normalize the data since the units of sqft and bedrooms differs widely. Subtract mean value for each column and divide by its standard deviation."
   ]
  },
  {
   "cell_type": "code",
   "execution_count": 23,
   "metadata": {},
   "outputs": [
    {
     "data": {
      "text/html": [
       "<div>\n",
       "<style scoped>\n",
       "    .dataframe tbody tr th:only-of-type {\n",
       "        vertical-align: middle;\n",
       "    }\n",
       "\n",
       "    .dataframe tbody tr th {\n",
       "        vertical-align: top;\n",
       "    }\n",
       "\n",
       "    .dataframe thead th {\n",
       "        text-align: right;\n",
       "    }\n",
       "</style>\n",
       "<table border=\"1\" class=\"dataframe\">\n",
       "  <thead>\n",
       "    <tr style=\"text-align: right;\">\n",
       "      <th></th>\n",
       "      <th>Sqft</th>\n",
       "      <th>Bedroom</th>\n",
       "      <th>Price</th>\n",
       "    </tr>\n",
       "  </thead>\n",
       "  <tbody>\n",
       "    <tr>\n",
       "      <th>0</th>\n",
       "      <td>0.130010</td>\n",
       "      <td>-0.223675</td>\n",
       "      <td>399900</td>\n",
       "    </tr>\n",
       "    <tr>\n",
       "      <th>1</th>\n",
       "      <td>-0.504190</td>\n",
       "      <td>-0.223675</td>\n",
       "      <td>329900</td>\n",
       "    </tr>\n",
       "    <tr>\n",
       "      <th>2</th>\n",
       "      <td>0.502476</td>\n",
       "      <td>-0.223675</td>\n",
       "      <td>369000</td>\n",
       "    </tr>\n",
       "    <tr>\n",
       "      <th>3</th>\n",
       "      <td>-0.735723</td>\n",
       "      <td>-1.537767</td>\n",
       "      <td>232000</td>\n",
       "    </tr>\n",
       "    <tr>\n",
       "      <th>4</th>\n",
       "      <td>1.257476</td>\n",
       "      <td>1.090417</td>\n",
       "      <td>539900</td>\n",
       "    </tr>\n",
       "  </tbody>\n",
       "</table>\n",
       "</div>"
      ],
      "text/plain": [
       "       Sqft   Bedroom   Price\n",
       "0  0.130010 -0.223675  399900\n",
       "1 -0.504190 -0.223675  329900\n",
       "2  0.502476 -0.223675  369000\n",
       "3 -0.735723 -1.537767  232000\n",
       "4  1.257476  1.090417  539900"
      ]
     },
     "execution_count": 23,
     "metadata": {},
     "output_type": "execute_result"
    }
   ],
   "source": [
    "multidata_df['Sqft'] = (multidata_df['Sqft'] - multidata_df['Sqft'].mean())/multidata_df['Sqft'].std()\n",
    "multidata_df['Bedroom'] = (multidata_df['Bedroom'] - multidata_df['Bedroom'].mean())/multidata_df['Bedroom'].std()\n",
    "#multidata_df['Price'] = (multidata_df['Price'] - multidata_df['Price'].mean())/multidata_df['Price'].std()\n",
    "multidata_df.head()"
   ]
  },
  {
   "cell_type": "markdown",
   "metadata": {},
   "source": [
    "### Fit a line using Linear Regression built-in model"
   ]
  },
  {
   "cell_type": "code",
   "execution_count": 24,
   "metadata": {},
   "outputs": [
    {
     "name": "stdout",
     "output_type": "stream",
     "text": [
      "(47, 2) (47, 1)\n"
     ]
    }
   ],
   "source": [
    "lrm = LinearRegression()\n",
    "X_mdata = multidata_df.drop('Price', axis=1)\n",
    "y_mdata = multidata_df[['Price']]\n",
    "print(X_mdata.shape, y_mdata.shape)"
   ]
  },
  {
   "cell_type": "code",
   "execution_count": 25,
   "metadata": {},
   "outputs": [
    {
     "name": "stdout",
     "output_type": "stream",
     "text": [
      "y_pred =  [[104136.06241335  -2454.16148159]] X_test + [339392.12834327]\n"
     ]
    }
   ],
   "source": [
    "X_train, X_test, y_train, y_test = train_test_split(multidata_df[['Sqft', 'Bedroom']], y_mdata, test_size=0.33, random_state=0)\n",
    "lrm.fit(X_train, y_train)\n",
    "print(\"y_pred = \", lrm.coef_, \"X_test +\", lrm.intercept_)\n",
    "y_pred = lrm.predict(X_test)"
   ]
  },
  {
   "cell_type": "code",
   "execution_count": 26,
   "metadata": {},
   "outputs": [
    {
     "name": "stdout",
     "output_type": "stream",
     "text": [
      "Linear Regression Score for training data: 0.7720082339939024\n",
      "Linear Regression Score for test data: 0.6141963844632015\n",
      "Mean absolute error: 61386.22\n",
      "Residual sum of squares (MSE): 4942281186.80\n",
      "R2-score: 0.10\n"
     ]
    }
   ],
   "source": [
    "print(\"Linear Regression Score for training data:\", lrm.score(X_train, y_train))\n",
    "print(\"Linear Regression Score for test data:\", lrm.score(X_test, y_test))\n",
    "print(\"Mean absolute error: %.2f\" % np.mean(np.absolute(y_pred - y_test)))\n",
    "print(\"Residual sum of squares (MSE): %.2f\" % np.mean((y_pred - y_test) ** 2))\n",
    "print(\"R2-score: %.2f\" % metrics.r2_score(y_pred , y_test) )"
   ]
  },
  {
   "cell_type": "markdown",
   "metadata": {},
   "source": [
    "### Fit a line using Gradient Descent"
   ]
  },
  {
   "cell_type": "markdown",
   "metadata": {},
   "source": [
    "Objective is to minimize the cost function similar to single variable case"
   ]
  },
  {
   "cell_type": "code",
   "execution_count": 27,
   "metadata": {},
   "outputs": [
    {
     "name": "stdout",
     "output_type": "stream",
     "text": [
      "Shape of X (47, 2)\n",
      "Shape of y (47, 1)\n"
     ]
    }
   ],
   "source": [
    "X = np.array(multidata_df[['Sqft', 'Bedroom']])\n",
    "y = np.array(multidata_df[['Price']])\n",
    "\n",
    "# Original shape of data\n",
    "print(\"Shape of X\", X.shape)\n",
    "print(\"Shape of y\", y.shape)"
   ]
  },
  {
   "cell_type": "markdown",
   "metadata": {},
   "source": [
    "We need to append a column of ones at the beginning of feature matrix to represent $\\theta_0$. We also need to reshape the data from 1D to 2D form"
   ]
  },
  {
   "cell_type": "code",
   "execution_count": 28,
   "metadata": {},
   "outputs": [],
   "source": [
    "numSamples = X.shape[0]\n",
    "ones = np.ones(numSamples).reshape(numSamples, 1)\n",
    "X = np.hstack((ones, X))\n",
    "numFeatures = X.shape[1]"
   ]
  },
  {
   "cell_type": "code",
   "execution_count": 29,
   "metadata": {},
   "outputs": [
    {
     "name": "stdout",
     "output_type": "stream",
     "text": [
      "Shape of X (47, 3)\n",
      "Shape of y (47, 1)\n"
     ]
    }
   ],
   "source": [
    "# Check the new shape\n",
    "print(\"Shape of X\", X.shape)\n",
    "print(\"Shape of y\", y.shape)"
   ]
  },
  {
   "cell_type": "markdown",
   "metadata": {},
   "source": [
    "We can use the same function to compute cost and update theta. Example to calculate cost for (0, 0) values for $\\theta$"
   ]
  },
  {
   "cell_type": "code",
   "execution_count": 30,
   "metadata": {},
   "outputs": [
    {
     "data": {
      "text/plain": [
       "array([[6.55915481e+10]])"
      ]
     },
     "execution_count": 30,
     "metadata": {},
     "output_type": "execute_result"
    }
   ],
   "source": [
    "theta = np.zeros((numFeatures, 1))\n",
    "computecost(X, y, theta)"
   ]
  },
  {
   "cell_type": "markdown",
   "metadata": {},
   "source": [
    "Define a function to plot the cost vs number of iterations graph to illustrate the rate of reduction of cost with different values of $\\alpha$"
   ]
  },
  {
   "cell_type": "code",
   "execution_count": 31,
   "metadata": {},
   "outputs": [],
   "source": [
    "def plotcostvsalpha(xv, costv, alpha):\n",
    "    fig = plt.figure(figsize=(6,4))\n",
    "    ax = fig.add_subplot(111)\n",
    "    label = \"Alpha = {}\".format(alpha)\n",
    "    surf = ax.plot(xv, costv, label=label)\n",
    "    ax.set_xlabel('Number of Iterations')\n",
    "    ax.set_ylabel('Cost J')\n",
    "    plt.legend(loc=\"upper right\")\n",
    "    plt.show()"
   ]
  },
  {
   "cell_type": "markdown",
   "metadata": {},
   "source": [
    "Calculate minimum cost for  𝜃  values by iteration. Initialize alpha to 0.01. We also store the updated theta values to later use for plotting."
   ]
  },
  {
   "cell_type": "code",
   "execution_count": 32,
   "metadata": {},
   "outputs": [],
   "source": [
    "def computemincost(alpha):\n",
    "    iterations = 50\n",
    "    theta = np.zeros((numFeatures, 1))\n",
    "    xv = np.zeros(iterations)\n",
    "    costv = np.zeros(iterations)\n",
    "    for i in range(0,iterations):\n",
    "        xv[i] = i\n",
    "        costv[i] = computecost(X, y, theta)\n",
    "        theta = updatetheta(X, y, theta, alpha)\n",
    "    plotcostvsalpha(xv, costv, alpha)\n",
    "    print(\"Final theta\", theta)\n",
    "    cost = computecost(X, y, theta)\n",
    "    print(\"Final cost\", cost)"
   ]
  },
  {
   "cell_type": "markdown",
   "metadata": {},
   "source": [
    "The following interface allows you to experiment with different $\\alpha$ values."
   ]
  },
  {
   "cell_type": "code",
   "execution_count": 33,
   "metadata": {},
   "outputs": [
    {
     "data": {
      "application/vnd.jupyter.widget-view+json": {
       "model_id": "1b2a1ceee43e4c60b17e15cd9f03e9b4",
       "version_major": 2,
       "version_minor": 0
      },
      "text/plain": [
       "interactive(children=(FloatSlider(value=0.49, description='alpha', max=1.0, min=0.01, step=0.03), Output()), _…"
      ]
     },
     "metadata": {},
     "output_type": "display_data"
    },
    {
     "data": {
      "text/plain": [
       "<function __main__.computemincost(alpha)>"
      ]
     },
     "execution_count": 33,
     "metadata": {},
     "output_type": "execute_result"
    }
   ],
   "source": [
    "from ipywidgets import interact\n",
    "interact(computemincost, alpha=(0.01, 1, 0.03))"
   ]
  },
  {
   "cell_type": "markdown",
   "metadata": {},
   "source": [
    "### Finding $\\theta$ values unsing Normal Equation"
   ]
  },
  {
   "cell_type": "markdown",
   "metadata": {},
   "source": [
    "$$ \\theta = (X^TX)^{-1}X^Ty $$"
   ]
  },
  {
   "cell_type": "code",
   "execution_count": 34,
   "metadata": {},
   "outputs": [
    {
     "name": "stdout",
     "output_type": "stream",
     "text": [
      "[[340412.65957447]\n",
      " [110631.05027885]\n",
      " [ -6649.47427082]]\n"
     ]
    }
   ],
   "source": [
    "A = X.T.dot(X)\n",
    "A_inv = np.linalg.inv(A)\n",
    "B = A_inv.dot(X.T)\n",
    "FinalTheta = B.dot(y)\n",
    "print(FinalTheta)"
   ]
  },
  {
   "cell_type": "code",
   "execution_count": null,
   "metadata": {},
   "outputs": [],
   "source": []
  }
 ],
 "metadata": {
  "kernelspec": {
   "display_name": "Python 3",
   "language": "python",
   "name": "python3"
  },
  "language_info": {
   "codemirror_mode": {
    "name": "ipython",
    "version": 3
   },
   "file_extension": ".py",
   "mimetype": "text/x-python",
   "name": "python",
   "nbconvert_exporter": "python",
   "pygments_lexer": "ipython3",
   "version": "3.8.2"
  },
  "pycharm": {
   "stem_cell": {
    "cell_type": "raw",
    "metadata": {
     "collapsed": false
    },
    "source": []
   }
  }
 },
 "nbformat": 4,
 "nbformat_minor": 4
}
